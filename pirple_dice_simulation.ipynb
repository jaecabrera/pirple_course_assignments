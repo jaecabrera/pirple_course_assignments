{
 "cells": [
  {
   "cell_type": "markdown",
   "id": "6d4d8aae-9cfe-498e-9883-662aaf06790a",
   "metadata": {},
   "source": [
    "# Pirple Homework #3\n",
    "---\n",
    "\n",
    "**Details:**\n",
    " \n",
    "\n",
    "1. Import pyspark into your notebook and create a new appName as “Homework 3\"\n",
    "\n",
    "2. Following the examples in the previous lectures, create a simulation of the following conditions:\n",
    "\n",
    "    Rather than a single 2-sided coin, there are two 6-sided dice.\n",
    "    When the dice are rolled, their outcomes should be added together.\n",
    "    The dice should be rolled 100 times\n",
    "3. Once the simulation is complete, collect the resulting outcomes and present them in a table within your notebook.\n",
    "\n",
    "4. Display the table data as a histogram. The x-axis should be the possible outcomes (2,3,4 etc), and the y-axis should represent the total number of times that outcome appeared in the simulation.\n",
    "\n",
    "5. Follow the \"Turning it In\" instructions below carefully."
   ]
  },
  {
   "cell_type": "code",
   "execution_count": 1,
   "id": "42b5f8f3-0d1d-4f37-991c-167b679c32e7",
   "metadata": {},
   "outputs": [],
   "source": [
    "# import libraries\n",
    "import pandas as pd\n",
    "import pyspark as ps\n",
    "from pyspark.sql import SparkSession\n",
    "import numpy as np\n",
    "import seaborn as sns\n",
    "import matplotlib.pyplot as plt"
   ]
  },
  {
   "cell_type": "code",
   "execution_count": 28,
   "id": "e9e6d897-8ba3-4d93-a8f0-df208cb11b0f",
   "metadata": {},
   "outputs": [],
   "source": [
    "# create spark session\n",
    "spark = SparkSession.builder.\\\n",
    "    appName('Homework3').getOrCreate()\n",
    "\n",
    "# create spark context object\n",
    "sc = spark.sparkContext"
   ]
  },
  {
   "cell_type": "code",
   "execution_count": 29,
   "id": "8c3f55b5-65dc-4196-ab3e-bd29fa49abb3",
   "metadata": {},
   "outputs": [
    {
     "data": {
      "text/html": [
       "\n",
       "            <div>\n",
       "                <p><b>SparkSession - in-memory</b></p>\n",
       "                \n",
       "        <div>\n",
       "            <p><b>SparkContext</b></p>\n",
       "\n",
       "            <p><a href=\"http://DESKTOP-MAELT3I:4040\">Spark UI</a></p>\n",
       "\n",
       "            <dl>\n",
       "              <dt>Version</dt>\n",
       "                <dd><code>v3.1.2</code></dd>\n",
       "              <dt>Master</dt>\n",
       "                <dd><code>local[*]</code></dd>\n",
       "              <dt>AppName</dt>\n",
       "                <dd><code>Homework3</code></dd>\n",
       "            </dl>\n",
       "        </div>\n",
       "        \n",
       "            </div>\n",
       "        "
      ],
      "text/plain": [
       "<pyspark.sql.session.SparkSession at 0x2edc3a10b80>"
      ]
     },
     "execution_count": 29,
     "metadata": {},
     "output_type": "execute_result"
    }
   ],
   "source": [
    "# check spark session\n",
    "spark"
   ]
  },
  {
   "cell_type": "markdown",
   "id": "8c7c06db-75f1-43dd-8edb-987d51a1fcf0",
   "metadata": {},
   "source": [
    "Roll Dice\n",
    "\n",
    "---"
   ]
  },
  {
   "cell_type": "code",
   "execution_count": 80,
   "id": "9eecba1f-5a51-4272-a53c-d83a24f68dd9",
   "metadata": {},
   "outputs": [],
   "source": [
    "# number of tirals\n",
    "n_trials = 100\n",
    "\n",
    "# create a dice\n",
    "def roll_dice():\n",
    "    return random.randrange(1, 6)\n",
    "\n",
    "# dice rolls\n",
    "roll = sc.parallelize(range(n_trials)).\\\n",
    "    map(lambda _: roll_dice())\n",
    "\n",
    "# sum all values\n",
    "roll_sum = roll.sum()\n",
    "\n",
    "# all outcome of experiments\n",
    "roll_outcomes = roll.collect()"
   ]
  },
  {
   "cell_type": "code",
   "execution_count": 81,
   "id": "9786170f-cc41-4165-b0b0-5a6df9896757",
   "metadata": {},
   "outputs": [
    {
     "name": "stdout",
     "output_type": "stream",
     "text": [
      "The total sum of all dice roll is 307.\n"
     ]
    }
   ],
   "source": [
    "print(f'The total sum of all dice roll is {roll_sum}.')"
   ]
  },
  {
   "cell_type": "markdown",
   "id": "47108bb1-7ada-4898-aa49-cc922de9a917",
   "metadata": {},
   "source": [
    "Table View\n",
    "\n",
    "---"
   ]
  },
  {
   "cell_type": "code",
   "execution_count": 125,
   "id": "05954eee-b386-4db4-87d2-4d3db531aa65",
   "metadata": {},
   "outputs": [],
   "source": [
    "# create table\n",
    "dice_table = pd.DataFrame()\n",
    "dice_table['n_trials'] = np.arange(1, 101)\n",
    "dice_table['dice_outcomes'] = roll_outcomes\n",
    "dice_table = dice_table.set_index('n_trials')"
   ]
  },
  {
   "cell_type": "code",
   "execution_count": 126,
   "id": "96010310-7bad-42cb-bbee-1468f5d24294",
   "metadata": {},
   "outputs": [
    {
     "data": {
      "text/html": [
       "<div>\n",
       "<style scoped>\n",
       "    .dataframe tbody tr th:only-of-type {\n",
       "        vertical-align: middle;\n",
       "    }\n",
       "\n",
       "    .dataframe tbody tr th {\n",
       "        vertical-align: top;\n",
       "    }\n",
       "\n",
       "    .dataframe thead th {\n",
       "        text-align: right;\n",
       "    }\n",
       "</style>\n",
       "<table border=\"1\" class=\"dataframe\">\n",
       "  <thead>\n",
       "    <tr style=\"text-align: right;\">\n",
       "      <th></th>\n",
       "      <th>dice_outcomes</th>\n",
       "    </tr>\n",
       "    <tr>\n",
       "      <th>n_trials</th>\n",
       "      <th></th>\n",
       "    </tr>\n",
       "  </thead>\n",
       "  <tbody>\n",
       "    <tr>\n",
       "      <th>1</th>\n",
       "      <td>3</td>\n",
       "    </tr>\n",
       "    <tr>\n",
       "      <th>2</th>\n",
       "      <td>4</td>\n",
       "    </tr>\n",
       "    <tr>\n",
       "      <th>3</th>\n",
       "      <td>4</td>\n",
       "    </tr>\n",
       "    <tr>\n",
       "      <th>4</th>\n",
       "      <td>3</td>\n",
       "    </tr>\n",
       "    <tr>\n",
       "      <th>5</th>\n",
       "      <td>5</td>\n",
       "    </tr>\n",
       "  </tbody>\n",
       "</table>\n",
       "</div>"
      ],
      "text/plain": [
       "          dice_outcomes\n",
       "n_trials               \n",
       "1                     3\n",
       "2                     4\n",
       "3                     4\n",
       "4                     3\n",
       "5                     5"
      ]
     },
     "execution_count": 126,
     "metadata": {},
     "output_type": "execute_result"
    }
   ],
   "source": [
    "dice_table.head()"
   ]
  },
  {
   "cell_type": "markdown",
   "id": "403404f1-a2fa-40ba-89e8-5b22d07349e5",
   "metadata": {},
   "source": [
    "Outcome Histogram\n",
    "\n",
    "---"
   ]
  },
  {
   "cell_type": "code",
   "execution_count": 127,
   "id": "51d665db-c7e6-4aa9-b5d6-c8d1c94788e1",
   "metadata": {},
   "outputs": [
    {
     "data": {
      "image/png": "[encoded data removed]",
      "text/plain": [
       "<Figure size 1080x720 with 1 Axes>"
      ]
     },
     "metadata": {},
     "output_type": "display_data"
    }
   ],
   "source": [
    "f, ax = plt.subplots(figsize=(15,10))\n",
    "sns.set_style('darkgrid')\n",
    "dice_plot = sns.histplot(\n",
    "    dice_table, x='dice_outcomes', stat='count', discrete=True);\n",
    "\n",
    "dice_plot.set_title('Dice Outcomes', fontsize=20);"
   ]
  }
 ],
 "metadata": {
  "kernelspec": {
   "display_name": "Python 3",
   "language": "python",
   "name": "python3"
  },
  "language_info": {
   "codemirror_mode": {
    "name": "ipython",
    "version": 3
   },
   "file_extension": ".py",
   "mimetype": "text/x-python",
   "name": "python",
   "nbconvert_exporter": "python",
   "pygments_lexer": "ipython3",
   "version": "3.9.0"
  }
 },
 "nbformat": 4,
 "nbformat_minor": 5
}
