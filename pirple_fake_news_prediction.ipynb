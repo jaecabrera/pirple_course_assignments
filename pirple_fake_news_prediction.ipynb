{
 "cells": [
  {
   "cell_type": "markdown",
   "metadata": {
    "id": "VyXyzhNGRQ7v"
   },
   "source": [
    "Requirement:"
   ]
  },
  {
   "cell_type": "markdown",
   "metadata": {
    "id": "_EtbKPe3JPYr"
   },
   "source": [
    ">      4. The notebook formulas that can import the CSV contents from step 2, and analyze the new headlines/articles, then give them a truthfulness rating. For example: \"Likely true\", \"likely false\", etc.\n",
    "\n",
    "\n"
   ]
  },
  {
   "cell_type": "code",
   "execution_count": 37,
   "metadata": {
    "id": "Mbq9x_6ICP4T"
   },
   "outputs": [],
   "source": [
    "import tensorflow as tf\n",
    "from tensorflow.keras.preprocessing.text import Tokenizer\n",
    "from keras import models\n",
    "import texthero as hero\n",
    "import pandas as pd\n",
    "import sqlite3"
   ]
  },
  {
   "cell_type": "markdown",
   "metadata": {
    "id": "fE95SRPgJDO5"
   },
   "source": [
    "Load Model"
   ]
  },
  {
   "cell_type": "code",
   "execution_count": 9,
   "metadata": {
    "id": "yEZ3jwLzD-X1"
   },
   "outputs": [],
   "source": [
    "fp = './tf_saved_model/fake_news_model.h5'\n",
    "bloomberg_model = tf.keras.models.load_model(fp)"
   ]
  },
  {
   "cell_type": "markdown",
   "metadata": {
    "id": "-MYPnMyvJEh4"
   },
   "source": [
    "Connect to SQLite3"
   ]
  },
  {
   "cell_type": "code",
   "execution_count": 32,
   "metadata": {
    "colab": {
     "base_uri": "https://localhost:8080/",
     "height": 293
    },
    "id": "y8pGtAlVEAgu",
    "outputId": "30b228db-c3ec-49f2-ccbf-079a52bbba8f"
   },
   "outputs": [
    {
     "data": {
      "text/html": [
       "<div>\n",
       "<style scoped>\n",
       "    .dataframe tbody tr th:only-of-type {\n",
       "        vertical-align: middle;\n",
       "    }\n",
       "\n",
       "    .dataframe tbody tr th {\n",
       "        vertical-align: top;\n",
       "    }\n",
       "\n",
       "    .dataframe thead th {\n",
       "        text-align: right;\n",
       "    }\n",
       "</style>\n",
       "<table border=\"1\" class=\"dataframe\">\n",
       "  <thead>\n",
       "    <tr style=\"text-align: right;\">\n",
       "      <th></th>\n",
       "      <th>author</th>\n",
       "      <th>content</th>\n",
       "      <th>description</th>\n",
       "      <th>publishedAt</th>\n",
       "      <th>source</th>\n",
       "      <th>title</th>\n",
       "      <th>url</th>\n",
       "      <th>urlToImage</th>\n",
       "    </tr>\n",
       "  </thead>\n",
       "  <tbody>\n",
       "    <tr>\n",
       "      <th>0</th>\n",
       "      <td>Brandon Kochkodin</td>\n",
       "      <td>None</td>\n",
       "      <td>Now’s a great time to get into Bitcoin mining....</td>\n",
       "      <td>2021-07-07</td>\n",
       "      <td>Bloomberg</td>\n",
       "      <td>Bitcoin Miners Thwarted by Data Center Crunch ...</td>\n",
       "      <td>https://www.bloomberg.com/news/articles/2021-0...</td>\n",
       "      <td>https://assets.bwbx.io/images/users/iqjWHBFdfx...</td>\n",
       "    </tr>\n",
       "    <tr>\n",
       "      <th>1</th>\n",
       "      <td>Charlie Wells</td>\n",
       "      <td>None</td>\n",
       "      <td>The rules of investing are getting a shakeup. ...</td>\n",
       "      <td>2021-07-15</td>\n",
       "      <td>Bloomberg</td>\n",
       "      <td>Bloomberg Wealth: Your Investing Tactics May B...</td>\n",
       "      <td>https://www.bloomberg.com/news/newsletters/202...</td>\n",
       "      <td>https://assets.bwbx.io/images/users/iqjWHBFdfx...</td>\n",
       "    </tr>\n",
       "    <tr>\n",
       "      <th>2</th>\n",
       "      <td>Georgina McKay, Tracy Alloway</td>\n",
       "      <td>None</td>\n",
       "      <td>India’s Covid death toll has been massively un...</td>\n",
       "      <td>2021-07-21</td>\n",
       "      <td>Bloomberg</td>\n",
       "      <td>Five Things You Need to Know to Start Your Day</td>\n",
       "      <td>https://www.bloomberg.com/news/newsletters/202...</td>\n",
       "      <td>https://assets.bwbx.io/images/users/iqjWHBFdfx...</td>\n",
       "    </tr>\n",
       "    <tr>\n",
       "      <th>3</th>\n",
       "      <td>Spencer Soper</td>\n",
       "      <td>None</td>\n",
       "      <td>Speculation that the company would allow crypt...</td>\n",
       "      <td>2021-07-30</td>\n",
       "      <td>Bloomberg</td>\n",
       "      <td>Amazon Has 1.55 Trillion Reasons to Start Acce...</td>\n",
       "      <td>https://www.bloomberg.com/news/newsletters/202...</td>\n",
       "      <td>https://assets.bwbx.io/images/users/iqjWHBFdfx...</td>\n",
       "    </tr>\n",
       "    <tr>\n",
       "      <th>4</th>\n",
       "      <td>Joanna Ossinger</td>\n",
       "      <td>None</td>\n",
       "      <td>Superficially, it should be a perfect match. I...</td>\n",
       "      <td>2021-07-10</td>\n",
       "      <td>Bloomberg</td>\n",
       "      <td>Crypto Demand From Millennials Poses Big Test ...</td>\n",
       "      <td>https://www.bloomberg.com/news/articles/2021-0...</td>\n",
       "      <td>https://assets.bwbx.io/images/users/iqjWHBFdfx...</td>\n",
       "    </tr>\n",
       "  </tbody>\n",
       "</table>\n",
       "</div>"
      ],
      "text/plain": [
       "                          author  ...                                         urlToImage\n",
       "0              Brandon Kochkodin  ...  https://assets.bwbx.io/images/users/iqjWHBFdfx...\n",
       "1                  Charlie Wells  ...  https://assets.bwbx.io/images/users/iqjWHBFdfx...\n",
       "2  Georgina McKay, Tracy Alloway  ...  https://assets.bwbx.io/images/users/iqjWHBFdfx...\n",
       "3                  Spencer Soper  ...  https://assets.bwbx.io/images/users/iqjWHBFdfx...\n",
       "4                Joanna Ossinger  ...  https://assets.bwbx.io/images/users/iqjWHBFdfx...\n",
       "\n",
       "[5 rows x 8 columns]"
      ]
     },
     "execution_count": 32,
     "metadata": {
      "tags": []
     },
     "output_type": "execute_result"
    }
   ],
   "source": [
    "con = sqlite3.connect('bloomberg_news.db')\n",
    "data = pd.read_sql(\"SELECT * FROM news\", con)\n",
    "data.head()"
   ]
  },
  {
   "cell_type": "markdown",
   "metadata": {
    "id": "AHZbPZGSJIa1"
   },
   "source": [
    "Preprocess Data"
   ]
  },
  {
   "cell_type": "code",
   "execution_count": 33,
   "metadata": {
    "id": "QNPxPz-1Hs4c"
   },
   "outputs": [],
   "source": [
    "data = data[['title', 'description']]"
   ]
  },
  {
   "cell_type": "markdown",
   "metadata": {
    "id": "wYsik9OKJmzs"
   },
   "source": [
    "Drop NaNs"
   ]
  },
  {
   "cell_type": "code",
   "execution_count": 34,
   "metadata": {
    "id": "ta6-qrMlIsEj"
   },
   "outputs": [],
   "source": [
    "if data.isna().sum().sum() >= 1:\n",
    "    data.dropna(inplace=True)"
   ]
  },
  {
   "cell_type": "code",
   "execution_count": 35,
   "metadata": {
    "id": "1W4eqMs0I3yk"
   },
   "outputs": [],
   "source": [
    "data['description'] = hero.clean(data.title + ' ' +data.description)\n",
    "data = data.drop('title', axis=1)"
   ]
  },
  {
   "cell_type": "markdown",
   "metadata": {
    "id": "TyH0YXhuLM1h"
   },
   "source": [
    "Tokenizer"
   ]
  },
  {
   "cell_type": "code",
   "execution_count": 42,
   "metadata": {
    "id": "3_AWEogvMAZt"
   },
   "outputs": [],
   "source": [
    "def tokenize_description(x: List[str]) -> List[int] and Tokenizer:\n",
    "    \"\"\"\n",
    "    :param x:\n",
    "    :returns:\n",
    "    \"\"\"\n",
    "    tokenizer = Tokenizer()\n",
    "    tokenizer.fit_on_texts(x)\n",
    "    X = tokenizer.texts_to_sequences(x)\n",
    "    tk_model = tokenizer\n",
    "    \n",
    "    return X, tk_model"
   ]
  },
  {
   "cell_type": "code",
   "execution_count": 43,
   "metadata": {
    "id": "VFTixW6YMCkV"
   },
   "outputs": [],
   "source": [
    "def padding_sequence(x, maxlen=1000):\n",
    "    X = pad_sequences(x, maxlen=maxlen)\n",
    "    return X"
   ]
  },
  {
   "cell_type": "code",
   "execution_count": 47,
   "metadata": {
    "id": "FrhtKffxOuCT"
   },
   "outputs": [],
   "source": [
    "X = data['description']\n",
    "X, tk_model = tokenize_description(X)\n",
    "X = padding_sequence(X)"
   ]
  },
  {
   "cell_type": "markdown",
   "metadata": {
    "id": "l7vJ9KU9LZ0a"
   },
   "source": [
    "## Predictions\n",
    "\n",
    "---"
   ]
  },
  {
   "cell_type": "code",
   "execution_count": 66,
   "metadata": {
    "id": "t4a6kEp3O3EQ"
   },
   "outputs": [],
   "source": [
    "preds = (bloomberg_model.predict(X) >= 0.5).astype(int)\n",
    "preds = pd.Series(np.ravel(preds))\n",
    "pred_df = pd.concat([data.description, preds], axis=1)\n",
    "pred_df = pred_df.rename(columns={0: 'fake_0'})"
   ]
  },
  {
   "cell_type": "code",
   "execution_count": 70,
   "metadata": {
    "colab": {
     "base_uri": "https://localhost:8080/",
     "height": 677
    },
    "id": "o25F5ltVQjwl",
    "outputId": "8192ac71-404f-44b2-dd0b-fa947dda5c02"
   },
   "outputs": [
    {
     "data": {
      "text/html": [
       "<div>\n",
       "<style scoped>\n",
       "    .dataframe tbody tr th:only-of-type {\n",
       "        vertical-align: middle;\n",
       "    }\n",
       "\n",
       "    .dataframe tbody tr th {\n",
       "        vertical-align: top;\n",
       "    }\n",
       "\n",
       "    .dataframe thead th {\n",
       "        text-align: right;\n",
       "    }\n",
       "</style>\n",
       "<table border=\"1\" class=\"dataframe\">\n",
       "  <thead>\n",
       "    <tr style=\"text-align: right;\">\n",
       "      <th></th>\n",
       "      <th>description</th>\n",
       "      <th>fake_0</th>\n",
       "    </tr>\n",
       "  </thead>\n",
       "  <tbody>\n",
       "    <tr>\n",
       "      <th>0</th>\n",
       "      <td>bitcoin miners thwarted data center crunch ami...</td>\n",
       "      <td>1</td>\n",
       "    </tr>\n",
       "    <tr>\n",
       "      <th>1</th>\n",
       "      <td>bloomberg wealth investing tactics may date ru...</td>\n",
       "      <td>0</td>\n",
       "    </tr>\n",
       "    <tr>\n",
       "      <th>2</th>\n",
       "      <td>five things need know start day india' covid d...</td>\n",
       "      <td>0</td>\n",
       "    </tr>\n",
       "    <tr>\n",
       "      <th>3</th>\n",
       "      <td>amazon trillion reasons start accepting crypto...</td>\n",
       "      <td>0</td>\n",
       "    </tr>\n",
       "    <tr>\n",
       "      <th>4</th>\n",
       "      <td>crypto demand millennials poses big test robo ...</td>\n",
       "      <td>1</td>\n",
       "    </tr>\n",
       "    <tr>\n",
       "      <th>5</th>\n",
       "      <td>jeff bezos star wars inspire hunt trillion spa...</td>\n",
       "      <td>1</td>\n",
       "    </tr>\n",
       "    <tr>\n",
       "      <th>6</th>\n",
       "      <td>money stuff private equity firm got rich makin...</td>\n",
       "      <td>1</td>\n",
       "    </tr>\n",
       "    <tr>\n",
       "      <th>7</th>\n",
       "      <td>money stuff easy borrow money money could dumb...</td>\n",
       "      <td>1</td>\n",
       "    </tr>\n",
       "    <tr>\n",
       "      <th>8</th>\n",
       "      <td>five things need know start day china unveils ...</td>\n",
       "      <td>0</td>\n",
       "    </tr>\n",
       "    <tr>\n",
       "      <th>9</th>\n",
       "      <td>esports crypto streaming service turns bandwid...</td>\n",
       "      <td>1</td>\n",
       "    </tr>\n",
       "    <tr>\n",
       "      <th>10</th>\n",
       "      <td>weekly watchlist chaos haiti president slain g...</td>\n",
       "      <td>1</td>\n",
       "    </tr>\n",
       "    <tr>\n",
       "      <th>11</th>\n",
       "      <td>ultra rich turning crypto driving spac boom go...</td>\n",
       "      <td>1</td>\n",
       "    </tr>\n",
       "    <tr>\n",
       "      <th>12</th>\n",
       "      <td>crypto scammers rip billions pump dump schemes...</td>\n",
       "      <td>1</td>\n",
       "    </tr>\n",
       "    <tr>\n",
       "      <th>13</th>\n",
       "      <td>best reads week like signs normalcy emerging r...</td>\n",
       "      <td>1</td>\n",
       "    </tr>\n",
       "    <tr>\n",
       "      <th>14</th>\n",
       "      <td>money stuff jamie dimon got bonus happened</td>\n",
       "      <td>0</td>\n",
       "    </tr>\n",
       "    <tr>\n",
       "      <th>15</th>\n",
       "      <td>money stuff elon musk never wanted ceo elon mu...</td>\n",
       "      <td>0</td>\n",
       "    </tr>\n",
       "    <tr>\n",
       "      <th>16</th>\n",
       "      <td>money stuff blockchain lets bet stocks really ...</td>\n",
       "      <td>1</td>\n",
       "    </tr>\n",
       "    <tr>\n",
       "      <th>17</th>\n",
       "      <td>five things need know start day bhp considerin...</td>\n",
       "      <td>0</td>\n",
       "    </tr>\n",
       "    <tr>\n",
       "      <th>18</th>\n",
       "      <td>five things need know start day u u k allies a...</td>\n",
       "      <td>0</td>\n",
       "    </tr>\n",
       "    <tr>\n",
       "      <th>19</th>\n",
       "      <td>reinventing euro 21st century hello today look...</td>\n",
       "      <td>1</td>\n",
       "    </tr>\n",
       "  </tbody>\n",
       "</table>\n",
       "</div>"
      ],
      "text/plain": [
       "                                          description  fake_0\n",
       "0   bitcoin miners thwarted data center crunch ami...       1\n",
       "1   bloomberg wealth investing tactics may date ru...       0\n",
       "2   five things need know start day india' covid d...       0\n",
       "3   amazon trillion reasons start accepting crypto...       0\n",
       "4   crypto demand millennials poses big test robo ...       1\n",
       "5   jeff bezos star wars inspire hunt trillion spa...       1\n",
       "6   money stuff private equity firm got rich makin...       1\n",
       "7   money stuff easy borrow money money could dumb...       1\n",
       "8   five things need know start day china unveils ...       0\n",
       "9   esports crypto streaming service turns bandwid...       1\n",
       "10  weekly watchlist chaos haiti president slain g...       1\n",
       "11  ultra rich turning crypto driving spac boom go...       1\n",
       "12  crypto scammers rip billions pump dump schemes...       1\n",
       "13  best reads week like signs normalcy emerging r...       1\n",
       "14         money stuff jamie dimon got bonus happened       0\n",
       "15  money stuff elon musk never wanted ceo elon mu...       0\n",
       "16  money stuff blockchain lets bet stocks really ...       1\n",
       "17  five things need know start day bhp considerin...       0\n",
       "18  five things need know start day u u k allies a...       0\n",
       "19  reinventing euro 21st century hello today look...       1"
      ]
     },
     "execution_count": 70,
     "metadata": {
      "tags": []
     },
     "output_type": "execute_result"
    }
   ],
   "source": [
    "pred_df"
   ]
  },
  {
   "cell_type": "code",
   "execution_count": 73,
   "metadata": {
    "colab": {
     "base_uri": "https://localhost:8080/",
     "height": 468
    },
    "id": "ZCsTYJj_PtSX",
    "outputId": "4627f648-d547-41b4-ea0a-91eb342eeca4"
   },
   "outputs": [
    {
     "data": {
      "text/html": [
       "<style  type=\"text/css\" >\n",
       "#T_1016c418_f461_11eb_939c_0242ac1c0002row0_col1,#T_1016c418_f461_11eb_939c_0242ac1c0002row4_col1,#T_1016c418_f461_11eb_939c_0242ac1c0002row5_col1,#T_1016c418_f461_11eb_939c_0242ac1c0002row6_col1,#T_1016c418_f461_11eb_939c_0242ac1c0002row7_col1,#T_1016c418_f461_11eb_939c_0242ac1c0002row9_col1,#T_1016c418_f461_11eb_939c_0242ac1c0002row10_col1,#T_1016c418_f461_11eb_939c_0242ac1c0002row11_col1,#T_1016c418_f461_11eb_939c_0242ac1c0002row12_col1,#T_1016c418_f461_11eb_939c_0242ac1c0002row13_col1,#T_1016c418_f461_11eb_939c_0242ac1c0002row16_col1,#T_1016c418_f461_11eb_939c_0242ac1c0002row19_col1{\n",
       "            background-color:  #fff5f0;\n",
       "            color:  #000000;\n",
       "        }#T_1016c418_f461_11eb_939c_0242ac1c0002row1_col1,#T_1016c418_f461_11eb_939c_0242ac1c0002row2_col1,#T_1016c418_f461_11eb_939c_0242ac1c0002row3_col1,#T_1016c418_f461_11eb_939c_0242ac1c0002row8_col1,#T_1016c418_f461_11eb_939c_0242ac1c0002row14_col1,#T_1016c418_f461_11eb_939c_0242ac1c0002row15_col1,#T_1016c418_f461_11eb_939c_0242ac1c0002row17_col1,#T_1016c418_f461_11eb_939c_0242ac1c0002row18_col1{\n",
       "            background-color:  #67000d;\n",
       "            color:  #f1f1f1;\n",
       "        }</style><table id=\"T_1016c418_f461_11eb_939c_0242ac1c0002\" ><thead>    <tr>        <th class=\"blank level0\" ></th>        <th class=\"col_heading level0 col0\" >description</th>        <th class=\"col_heading level0 col1\" >fake_0</th>    </tr></thead><tbody>\n",
       "                <tr>\n",
       "                        <th id=\"T_1016c418_f461_11eb_939c_0242ac1c0002level0_row0\" class=\"row_heading level0 row0\" >0</th>\n",
       "                        <td id=\"T_1016c418_f461_11eb_939c_0242ac1c0002row0_col0\" class=\"data row0 col0\" >bitcoin miners thwarted data center crunch amid profit boom ' great time get bitcoin mining find place plug</td>\n",
       "                        <td id=\"T_1016c418_f461_11eb_939c_0242ac1c0002row0_col1\" class=\"data row0 col1\" >1</td>\n",
       "            </tr>\n",
       "            <tr>\n",
       "                        <th id=\"T_1016c418_f461_11eb_939c_0242ac1c0002level0_row1\" class=\"row_heading level0 row1\" >1</th>\n",
       "                        <td id=\"T_1016c418_f461_11eb_939c_0242ac1c0002row1_col0\" class=\"data row1 col0\" >bloomberg wealth investing tactics may date rules investing getting shakeup sure know stonks bitcoin robinhood ' keenly aware called retail revolution</td>\n",
       "                        <td id=\"T_1016c418_f461_11eb_939c_0242ac1c0002row1_col1\" class=\"data row1 col1\" >0</td>\n",
       "            </tr>\n",
       "            <tr>\n",
       "                        <th id=\"T_1016c418_f461_11eb_939c_0242ac1c0002level0_row2\" class=\"row_heading level0 row2\" >2</th>\n",
       "                        <td id=\"T_1016c418_f461_11eb_939c_0242ac1c0002row2_col0\" class=\"data row2 col0\" >five things need know start day india' covid death toll massively underreported top lenders losing faith china evergrande musk loves bitcoin ' afraid show asia ' need know</td>\n",
       "                        <td id=\"T_1016c418_f461_11eb_939c_0242ac1c0002row2_col1\" class=\"data row2 col1\" >0</td>\n",
       "            </tr>\n",
       "            <tr>\n",
       "                        <th id=\"T_1016c418_f461_11eb_939c_0242ac1c0002level0_row3\" class=\"row_heading level0 row3\" >3</th>\n",
       "                        <td id=\"T_1016c418_f461_11eb_939c_0242ac1c0002row3_col0\" class=\"data row3 col0\" >amazon trillion reasons start accepting crypto speculation company would allow cryptocurrency payments roiled markets could really happen</td>\n",
       "                        <td id=\"T_1016c418_f461_11eb_939c_0242ac1c0002row3_col1\" class=\"data row3 col1\" >0</td>\n",
       "            </tr>\n",
       "            <tr>\n",
       "                        <th id=\"T_1016c418_f461_11eb_939c_0242ac1c0002level0_row4\" class=\"row_heading level0 row4\" >4</th>\n",
       "                        <td id=\"T_1016c418_f461_11eb_939c_0242ac1c0002row4_col0\" class=\"data row4 col0\" >crypto demand millennials poses big test robo advisers superficially perfect match interest cryptocurrencies surged among young tech literate exactly demographic targeted big robo advisers</td>\n",
       "                        <td id=\"T_1016c418_f461_11eb_939c_0242ac1c0002row4_col1\" class=\"data row4 col1\" >1</td>\n",
       "            </tr>\n",
       "            <tr>\n",
       "                        <th id=\"T_1016c418_f461_11eb_939c_0242ac1c0002level0_row5\" class=\"row_heading level0 row5\" >5</th>\n",
       "                        <td id=\"T_1016c418_f461_11eb_939c_0242ac1c0002row5_col0\" class=\"data row5 col0\" >jeff bezos star wars inspire hunt trillion space unicorn billionaires sci fi classics cathie wood spurring traders interstellar interests toward stocks etfs risks remain world</td>\n",
       "                        <td id=\"T_1016c418_f461_11eb_939c_0242ac1c0002row5_col1\" class=\"data row5 col1\" >1</td>\n",
       "            </tr>\n",
       "            <tr>\n",
       "                        <th id=\"T_1016c418_f461_11eb_939c_0242ac1c0002level0_row6\" class=\"row_heading level0 row6\" >6</th>\n",
       "                        <td id=\"T_1016c418_f461_11eb_939c_0242ac1c0002row6_col0\" class=\"data row6 col0\" >money stuff private equity firm got rich making private equity firms rich sneakily important fact finance make million year make million year company makes million year ' worth least say million stream income worth multiple year' inc...</td>\n",
       "                        <td id=\"T_1016c418_f461_11eb_939c_0242ac1c0002row6_col1\" class=\"data row6 col1\" >1</td>\n",
       "            </tr>\n",
       "            <tr>\n",
       "                        <th id=\"T_1016c418_f461_11eb_939c_0242ac1c0002level0_row7\" class=\"row_heading level0 row7\" >7</th>\n",
       "                        <td id=\"T_1016c418_f461_11eb_939c_0242ac1c0002row7_col0\" class=\"data row7 col0\" >money stuff easy borrow money money could dumb oversimplified model goes like</td>\n",
       "                        <td id=\"T_1016c418_f461_11eb_939c_0242ac1c0002row7_col1\" class=\"data row7 col1\" >1</td>\n",
       "            </tr>\n",
       "            <tr>\n",
       "                        <th id=\"T_1016c418_f461_11eb_939c_0242ac1c0002level0_row8\" class=\"row_heading level0 row8\" >8</th>\n",
       "                        <td id=\"T_1016c418_f461_11eb_939c_0242ac1c0002row8_col0\" class=\"data row8 col0\" >five things need know start day china unveils sweeping overhaul billion education tech sector fauci warns u heading \"wrong direction\" delta tears across world china' economic recovery showing signs weakness ' need know</td>\n",
       "                        <td id=\"T_1016c418_f461_11eb_939c_0242ac1c0002row8_col1\" class=\"data row8 col1\" >0</td>\n",
       "            </tr>\n",
       "            <tr>\n",
       "                        <th id=\"T_1016c418_f461_11eb_939c_0242ac1c0002level0_row9\" class=\"row_heading level0 row9\" >9</th>\n",
       "                        <td id=\"T_1016c418_f461_11eb_939c_0242ac1c0002row9_col0\" class=\"data row9 col0\" >esports crypto streaming service turns bandwidth profits one biggest knocks cryptocurrencies real world benefits besides speculation</td>\n",
       "                        <td id=\"T_1016c418_f461_11eb_939c_0242ac1c0002row9_col1\" class=\"data row9 col1\" >1</td>\n",
       "            </tr>\n",
       "            <tr>\n",
       "                        <th id=\"T_1016c418_f461_11eb_939c_0242ac1c0002level0_row10\" class=\"row_heading level0 row10\" >10</th>\n",
       "                        <td id=\"T_1016c418_f461_11eb_939c_0242ac1c0002row10_col0\" class=\"data row10 col0\" >weekly watchlist chaos haiti president slain greetings quicktake readers week haitian officials vow justice assassination president jovenel moise plus fraudsters getting away billions variety crypto scams stream free</td>\n",
       "                        <td id=\"T_1016c418_f461_11eb_939c_0242ac1c0002row10_col1\" class=\"data row10 col1\" >1</td>\n",
       "            </tr>\n",
       "            <tr>\n",
       "                        <th id=\"T_1016c418_f461_11eb_939c_0242ac1c0002level0_row11\" class=\"row_heading level0 row11\" >11</th>\n",
       "                        <td id=\"T_1016c418_f461_11eb_939c_0242ac1c0002row11_col0\" class=\"data row11 col0\" >ultra rich turning crypto driving spac boom goldman sachs survey found nearly half family offices bank business want add digital currencies stable investments</td>\n",
       "                        <td id=\"T_1016c418_f461_11eb_939c_0242ac1c0002row11_col1\" class=\"data row11 col1\" >1</td>\n",
       "            </tr>\n",
       "            <tr>\n",
       "                        <th id=\"T_1016c418_f461_11eb_939c_0242ac1c0002level0_row12\" class=\"row_heading level0 row12\" >12</th>\n",
       "                        <td id=\"T_1016c418_f461_11eb_939c_0242ac1c0002row12_col0\" class=\"data row12 col0\" >crypto scammers rip billions pump dump schemes go digital billions getting pilfered annually variety cryptocurrency scams way things going get worse</td>\n",
       "                        <td id=\"T_1016c418_f461_11eb_939c_0242ac1c0002row12_col1\" class=\"data row12 col1\" >1</td>\n",
       "            </tr>\n",
       "            <tr>\n",
       "                        <th id=\"T_1016c418_f461_11eb_939c_0242ac1c0002level0_row13\" class=\"row_heading level0 row13\" >13</th>\n",
       "                        <td id=\"T_1016c418_f461_11eb_939c_0242ac1c0002row13_col0\" class=\"data row13 col0\" >best reads week like signs normalcy emerging return office course hong kong nearly entirely back judging pret sales growing pile person wedding invitations notably lumber fall back earth becoming ...</td>\n",
       "                        <td id=\"T_1016c418_f461_11eb_939c_0242ac1c0002row13_col1\" class=\"data row13 col1\" >1</td>\n",
       "            </tr>\n",
       "            <tr>\n",
       "                        <th id=\"T_1016c418_f461_11eb_939c_0242ac1c0002level0_row14\" class=\"row_heading level0 row14\" >14</th>\n",
       "                        <td id=\"T_1016c418_f461_11eb_939c_0242ac1c0002row14_col0\" class=\"data row14 col0\" >money stuff jamie dimon got bonus happened</td>\n",
       "                        <td id=\"T_1016c418_f461_11eb_939c_0242ac1c0002row14_col1\" class=\"data row14 col1\" >0</td>\n",
       "            </tr>\n",
       "            <tr>\n",
       "                        <th id=\"T_1016c418_f461_11eb_939c_0242ac1c0002level0_row15\" class=\"row_heading level0 row15\" >15</th>\n",
       "                        <td id=\"T_1016c418_f461_11eb_939c_0242ac1c0002row15_col0\" class=\"data row15 col0\" >money stuff elon musk never wanted ceo elon musk chief executive officer chairman board chief product officer co founder largest shareholder tesla inc also co founder chairman largest shareholder solarcity corp decided tesla ...</td>\n",
       "                        <td id=\"T_1016c418_f461_11eb_939c_0242ac1c0002row15_col1\" class=\"data row15 col1\" >0</td>\n",
       "            </tr>\n",
       "            <tr>\n",
       "                        <th id=\"T_1016c418_f461_11eb_939c_0242ac1c0002level0_row16\" class=\"row_heading level0 row16\" >16</th>\n",
       "                        <td id=\"T_1016c418_f461_11eb_939c_0242ac1c0002row16_col0\" class=\"data row16 col0\" >money stuff blockchain lets bet stocks really love blockchains one thing might want buy tesla inc stock blockchain people love blockchains also tend love tesla stock could might imagine following naive approach</td>\n",
       "                        <td id=\"T_1016c418_f461_11eb_939c_0242ac1c0002row16_col1\" class=\"data row16 col1\" >1</td>\n",
       "            </tr>\n",
       "            <tr>\n",
       "                        <th id=\"T_1016c418_f461_11eb_939c_0242ac1c0002level0_row17\" class=\"row_heading level0 row17\" >17</th>\n",
       "                        <td id=\"T_1016c418_f461_11eb_939c_0242ac1c0002row17_col0\" class=\"data row17 col0\" >five things need know start day bhp considering multi billion dollar retreat oil gas dip buyers give stocks best day since march bezos follows branson space ' need know</td>\n",
       "                        <td id=\"T_1016c418_f461_11eb_939c_0242ac1c0002row17_col1\" class=\"data row17 col1\" >0</td>\n",
       "            </tr>\n",
       "            <tr>\n",
       "                        <th id=\"T_1016c418_f461_11eb_939c_0242ac1c0002level0_row18\" class=\"row_heading level0 row18\" >18</th>\n",
       "                        <td id=\"T_1016c418_f461_11eb_939c_0242ac1c0002row18_col0\" class=\"data row18 col0\" >five things need know start day u u k allies accuse china microsoft exchange hack stocks tumble delta variant spooks investors major chinese cities face power blackouts ' need know</td>\n",
       "                        <td id=\"T_1016c418_f461_11eb_939c_0242ac1c0002row18_col1\" class=\"data row18 col1\" >0</td>\n",
       "            </tr>\n",
       "            <tr>\n",
       "                        <th id=\"T_1016c418_f461_11eb_939c_0242ac1c0002level0_row19\" class=\"row_heading level0 row19\" >19</th>\n",
       "                        <td id=\"T_1016c418_f461_11eb_939c_0242ac1c0002row19_col0\" class=\"data row19 col0\" >reinventing euro 21st century hello today look ecb' digital currency plans examine singapore' lost economic momentum ask could make transitory spike inflation long lasting</td>\n",
       "                        <td id=\"T_1016c418_f461_11eb_939c_0242ac1c0002row19_col1\" class=\"data row19 col1\" >1</td>\n",
       "            </tr>\n",
       "    </tbody></table>"
      ],
      "text/plain": [
       "<pandas.io.formats.style.Styler at 0x7f6c6969da90>"
      ]
     },
     "execution_count": 73,
     "metadata": {
      "tags": []
     },
     "output_type": "execute_result"
    }
   ],
   "source": [
    "pred_df.style.background_gradient(\n",
    "    subset='news_is', cmap='Reds_r')"
   ]
  }
 ],
 "metadata": {
  "colab": {
   "collapsed_sections": [],
   "name": "prediction_notebook.ipynb",
   "provenance": []
  },
  "kernelspec": {
   "display_name": "Python 3 (ipykernel)",
   "language": "python",
   "name": "python3"
  },
  "language_info": {
   "codemirror_mode": {
    "name": "ipython",
    "version": 3
   },
   "file_extension": ".py",
   "mimetype": "text/x-python",
   "name": "python",
   "nbconvert_exporter": "python",
   "pygments_lexer": "ipython3",
   "version": "3.9.6"
  }
 },
 "nbformat": 4,
 "nbformat_minor": 4
}
