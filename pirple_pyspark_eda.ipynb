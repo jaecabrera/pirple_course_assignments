{
 "cells": [
  {
   "cell_type": "markdown",
   "id": "6e1d3a6b-ec58-470f-979d-731740c7c90f",
   "metadata": {},
   "source": [
    "# Pirple: Homework 4\n",
    "\n",
    "**Details:**\n",
    " \n",
    "\n",
    "1. Go back to Kaggle and find a dataset representing the match history of your favorite team sport. The exact sport doesn't matter, as long as there are multiple players on a team, and the dataset includes the individual performance/scores for each player in each matchup during a given season.\n",
    "\n",
    "2. Pick a single team to analyze.\n",
    "\n",
    "3. Following the examples in the previous lectures, determine the following metrics for each player on the team you chose, as it relates to points/score per matchup:\n",
    "min\n",
    "max\n",
    "median\n",
    "lower quartile\n",
    "upper quartile\n",
    "\n",
    "4. Display the data as a boxplot. The x-axis should be the player names, and the y-axis should visualize a boxplot of the numerical data from step 2.\n",
    "\n",
    "5. Follow the \"Turning it In\" instructions below carefully."
   ]
  },
  {
   "cell_type": "code",
   "execution_count": 2,
   "id": "09394306-797f-4319-8890-ff39da603961",
   "metadata": {},
   "outputs": [],
   "source": [
    "import pyspark as ps\n",
    "from pyspark.sql import SparkSession\n",
    "from pyspark import SQLContext\n",
    "import seaborn as sns\n",
    "import matplotlib.pyplot as plt\n",
    "import pandas as pd\n",
    "import warnings\n",
    "warnings.filterwarnings(action='ignore')\n",
    "import opendatasets as od"
   ]
  },
  {
   "cell_type": "code",
   "execution_count": 3,
   "id": "e64ddb78-77e9-4d3f-89b0-04343add257b",
   "metadata": {},
   "outputs": [],
   "source": [
    "# data download link\n",
    "player_data_filepath = 'https://www.kaggle.com/mateusdmachado/csgo-professional-matches?select=players.csv'\n",
    "\n",
    "# teamname\n",
    "players = 'csgo-professional-matches/players.csv'"
   ]
  },
  {
   "cell_type": "markdown",
   "id": "8ef16eac-cd94-4530-a50c-fc040efff6fa",
   "metadata": {},
   "source": [
    "#### Download Data"
   ]
  },
  {
   "cell_type": "code",
   "execution_count": 4,
   "id": "7847c0ae-4d29-43f3-b2df-1bbedfa50479",
   "metadata": {},
   "outputs": [],
   "source": [
    "#od.download(player_data_filepath)"
   ]
  },
  {
   "cell_type": "markdown",
   "id": "f45f8bab-33b0-44bc-93c7-e5d63aff1061",
   "metadata": {},
   "source": [
    "## Spark Session\n",
    "\n",
    "---"
   ]
  },
  {
   "cell_type": "code",
   "execution_count": 5,
   "id": "6f540e60-d887-49ea-9377-ccb99d7a99b0",
   "metadata": {},
   "outputs": [],
   "source": [
    "# create a spark session\n",
    "spark = SparkSession.builder \\\n",
    "    .appName('Homework4') \\\n",
    "    .getOrCreate()"
   ]
  },
  {
   "cell_type": "code",
   "execution_count": 6,
   "id": "959cfd68-552d-4de7-a3c7-5eb552a8485f",
   "metadata": {},
   "outputs": [],
   "source": [
    "# spark context object\n",
    "sc = spark.sparkContext\n",
    "sqlContext = SQLContext(sc)"
   ]
  },
  {
   "cell_type": "code",
   "execution_count": 7,
   "id": "95ea1218-0d36-4208-b9d1-76d5640d39b7",
   "metadata": {},
   "outputs": [
    {
     "data": {
      "text/html": [
       "\n",
       "            <div>\n",
       "                <p><b>SparkSession - in-memory</b></p>\n",
       "                \n",
       "        <div>\n",
       "            <p><b>SparkContext</b></p>\n",
       "\n",
       "            <p><a href=\"http://DESKTOP-MAELT3I:4040\">Spark UI</a></p>\n",
       "\n",
       "            <dl>\n",
       "              <dt>Version</dt>\n",
       "                <dd><code>v3.1.2</code></dd>\n",
       "              <dt>Master</dt>\n",
       "                <dd><code>local[*]</code></dd>\n",
       "              <dt>AppName</dt>\n",
       "                <dd><code>Homework4</code></dd>\n",
       "            </dl>\n",
       "        </div>\n",
       "        \n",
       "            </div>\n",
       "        "
      ],
      "text/plain": [
       "<pyspark.sql.session.SparkSession at 0x24fdb251c10>"
      ]
     },
     "execution_count": 7,
     "metadata": {},
     "output_type": "execute_result"
    }
   ],
   "source": [
    "spark"
   ]
  },
  {
   "cell_type": "markdown",
   "id": "2309a44e-93d3-4d43-83bb-878c3fe8f8a2",
   "metadata": {},
   "source": [
    "## Read Player Info"
   ]
  },
  {
   "cell_type": "code",
   "execution_count": 8,
   "id": "b68bb8bd-cc77-4ab0-8bbc-a4d6bc547af7",
   "metadata": {},
   "outputs": [],
   "source": [
    "# read data from filepath\n",
    "player_info_sparkdf = sqlContext.read.csv(\n",
    "    path=players,\n",
    "    header=True,\n",
    "    quote='\"',\n",
    "    sep=\",\",\n",
    "    inferSchema=True)"
   ]
  },
  {
   "cell_type": "code",
   "execution_count": 9,
   "id": "74e5bb79-3b6a-4f9d-be91-9030b34a29e6",
   "metadata": {
    "tags": []
   },
   "outputs": [
    {
     "name": "stdout",
     "output_type": "stream",
     "text": [
      "root\n",
      " |-- date: string (nullable = true)\n",
      " |-- player_name: string (nullable = true)\n",
      " |-- team: string (nullable = true)\n",
      " |-- opponent: string (nullable = true)\n",
      " |-- country: string (nullable = true)\n",
      " |-- player_id: integer (nullable = true)\n",
      " |-- match_id: integer (nullable = true)\n",
      " |-- event_id: integer (nullable = true)\n",
      " |-- event_name: string (nullable = true)\n",
      " |-- best_of: integer (nullable = true)\n",
      " |-- map_1: string (nullable = true)\n",
      " |-- map_2: string (nullable = true)\n",
      " |-- map_3: string (nullable = true)\n",
      " |-- kills: integer (nullable = true)\n",
      " |-- assists: integer (nullable = true)\n",
      " |-- deaths: integer (nullable = true)\n",
      " |-- hs: integer (nullable = true)\n",
      " |-- flash_assists: double (nullable = true)\n",
      " |-- kast: double (nullable = true)\n",
      " |-- kddiff: integer (nullable = true)\n",
      " |-- adr: double (nullable = true)\n",
      " |-- fkdiff: integer (nullable = true)\n",
      " |-- rating: double (nullable = true)\n",
      " |-- m1_kills: integer (nullable = true)\n",
      " |-- m1_assists: integer (nullable = true)\n",
      " |-- m1_deaths: integer (nullable = true)\n",
      " |-- m1_hs: integer (nullable = true)\n",
      " |-- m1_flash_assists: double (nullable = true)\n",
      " |-- m1_kast: double (nullable = true)\n",
      " |-- m1_kddiff: integer (nullable = true)\n",
      " |-- m1_adr: double (nullable = true)\n",
      " |-- m1_fkdiff: integer (nullable = true)\n",
      " |-- m1_rating: double (nullable = true)\n",
      " |-- m2_kills: double (nullable = true)\n",
      " |-- m2_assists: double (nullable = true)\n",
      " |-- m2_deaths: double (nullable = true)\n",
      " |-- m2_hs: double (nullable = true)\n",
      " |-- m2_flash_assists: double (nullable = true)\n",
      " |-- m2_kast: double (nullable = true)\n",
      " |-- m2_kddiff: double (nullable = true)\n",
      " |-- m2_adr: double (nullable = true)\n",
      " |-- m2_fkdiff: double (nullable = true)\n",
      " |-- m2_rating: double (nullable = true)\n",
      " |-- m3_kills: double (nullable = true)\n",
      " |-- m3_assists: double (nullable = true)\n",
      " |-- m3_deaths: double (nullable = true)\n",
      " |-- m3_hs: double (nullable = true)\n",
      " |-- m3_flash_assists: double (nullable = true)\n",
      " |-- m3_kast: double (nullable = true)\n",
      " |-- m3_kddiff: double (nullable = true)\n",
      " |-- m3_adr: double (nullable = true)\n",
      " |-- m3_fkdiff: double (nullable = true)\n",
      " |-- m3_rating: double (nullable = true)\n",
      " |-- kills_ct: double (nullable = true)\n",
      " |-- deaths_ct: double (nullable = true)\n",
      " |-- kddiff_ct: double (nullable = true)\n",
      " |-- adr_ct: double (nullable = true)\n",
      " |-- kast_ct: double (nullable = true)\n",
      " |-- rating_ct: double (nullable = true)\n",
      " |-- kills_t: double (nullable = true)\n",
      " |-- deaths_t: double (nullable = true)\n",
      " |-- kddiff_t: double (nullable = true)\n",
      " |-- adr_t: double (nullable = true)\n",
      " |-- kast_t: double (nullable = true)\n",
      " |-- rating_t: double (nullable = true)\n",
      " |-- m1_kills_ct: double (nullable = true)\n",
      " |-- m1_deaths_ct: double (nullable = true)\n",
      " |-- m1_kddiff_ct: double (nullable = true)\n",
      " |-- m1_adr_ct: double (nullable = true)\n",
      " |-- m1_kast_ct: double (nullable = true)\n",
      " |-- m1_rating_ct: double (nullable = true)\n",
      " |-- m1_kills_t: double (nullable = true)\n",
      " |-- m1_deaths_t: double (nullable = true)\n",
      " |-- m1_kddiff_t: double (nullable = true)\n",
      " |-- m1_adr_t: double (nullable = true)\n",
      " |-- m1_kast_t: double (nullable = true)\n",
      " |-- m1_rating_t: double (nullable = true)\n",
      " |-- m2_kills_ct: double (nullable = true)\n",
      " |-- m2_deaths_ct: double (nullable = true)\n",
      " |-- m2_kddiff_ct: double (nullable = true)\n",
      " |-- m2_adr_ct: double (nullable = true)\n",
      " |-- m2_kast_ct: double (nullable = true)\n",
      " |-- m2_rating_ct: double (nullable = true)\n",
      " |-- m2_kills_t: double (nullable = true)\n",
      " |-- m2_deaths_t: double (nullable = true)\n",
      " |-- m2_kddiff_t: double (nullable = true)\n",
      " |-- m2_adr_t: double (nullable = true)\n",
      " |-- m2_kast_t: double (nullable = true)\n",
      " |-- m2_rating_t: double (nullable = true)\n",
      " |-- m3_kills_ct: double (nullable = true)\n",
      " |-- m3_deaths_ct: double (nullable = true)\n",
      " |-- m3_kddiff_ct: double (nullable = true)\n",
      " |-- m3_adr_ct: double (nullable = true)\n",
      " |-- m3_kast_ct: double (nullable = true)\n",
      " |-- m3_rating_ct: double (nullable = true)\n",
      " |-- m3_kills_t: double (nullable = true)\n",
      " |-- m3_deaths_t: double (nullable = true)\n",
      " |-- m3_kddiff_t: double (nullable = true)\n",
      " |-- m3_adr_t: double (nullable = true)\n",
      " |-- m3_kast_t: double (nullable = true)\n",
      " |-- m3_rating_t: double (nullable = true)\n",
      "\n"
     ]
    }
   ],
   "source": [
    "# check dataframe info\n",
    "player_info_sparkdf.printSchema()"
   ]
  },
  {
   "cell_type": "code",
   "execution_count": 10,
   "id": "edeab5d9-c804-4e2e-8cf6-449b258e2e50",
   "metadata": {
    "tags": []
   },
   "outputs": [
    {
     "name": "stdout",
     "output_type": "stream",
     "text": [
      "-RECORD 0-----------------------------\n",
      " date             | 2020-02-26        \n",
      " player_name      | Brehze            \n",
      " team             | Evil Geniuses     \n",
      " opponent         | Liquid            \n",
      " country          | United States     \n",
      " player_id        | 9136              \n",
      " match_id         | 2339385           \n",
      " event_id         | 4901              \n",
      " event_name       | IEM Katowice 2020 \n",
      " best_of          | 3                 \n",
      " map_1            | Overpass          \n",
      " map_2            | Nuke              \n",
      " map_3            | Inferno           \n",
      " kills            | 57                \n",
      " assists          | 14                \n",
      " deaths           | 61                \n",
      " hs               | 29                \n",
      " flash_assists    | 0.0               \n",
      " kast             | 71.1              \n",
      " kddiff           | -4                \n",
      " adr              | 79.9              \n",
      " fkdiff           | 0                 \n",
      " rating           | 1.04              \n",
      " m1_kills         | 11                \n",
      " m1_assists       | 3                 \n",
      " m1_deaths        | 18                \n",
      " m1_hs            | 5                 \n",
      " m1_flash_assists | 0.0               \n",
      " m1_kast          | 65.2              \n",
      " m1_kddiff        | -7                \n",
      " m1_adr           | 60.8              \n",
      " m1_fkdiff        | -1                \n",
      " m1_rating        | 0.7               \n",
      " m2_kills         | 30.0              \n",
      " m2_assists       | 7.0               \n",
      " m2_deaths        | 24.0              \n",
      " m2_hs            | 16.0              \n",
      " m2_flash_assists | 0.0               \n",
      " m2_kast          | 73.5              \n",
      " m2_kddiff        | 6.0               \n",
      " m2_adr           | 99.2              \n",
      " m2_fkdiff        | 6.0               \n",
      " m2_rating        | 1.38              \n",
      " m3_kills         | 16.0              \n",
      " m3_assists       | 4.0               \n",
      " m3_deaths        | 19.0              \n",
      " m3_hs            | 8.0               \n",
      " m3_flash_assists | 0.0               \n",
      " m3_kast          | 73.1              \n",
      " m3_kddiff        | -3.0              \n",
      " m3_adr           | 71.6              \n",
      " m3_fkdiff        | -5.0              \n",
      " m3_rating        | 0.91              \n",
      " kills_ct         | 34.0              \n",
      " deaths_ct        | 30.0              \n",
      " kddiff_ct        | 4.0               \n",
      " adr_ct           | 81.6              \n",
      " kast_ct          | 79.2              \n",
      " rating_ct        | 1.1               \n",
      " kills_t          | 23.0              \n",
      " deaths_t         | 31.0              \n",
      " kddiff_t         | -8.0              \n",
      " adr_t            | 77.5              \n",
      " kast_t           | 60.0              \n",
      " rating_t         | 0.97              \n",
      " m1_kills_ct      | 8.0               \n",
      " m1_deaths_ct     | 10.0              \n",
      " m1_kddiff_ct     | -2.0              \n",
      " m1_adr_ct        | 76.3              \n",
      " m1_kast_ct       | 73.3              \n",
      " m1_rating_ct     | 0.9               \n",
      " m1_kills_t       | 3.0               \n",
      " m1_deaths_t      | 8.0               \n",
      " m1_kddiff_t      | -5.0              \n",
      " m1_adr_t         | 31.9              \n",
      " m1_kast_t        | 50.0              \n",
      " m1_rating_t      | 0.34              \n",
      " m2_kills_ct      | 17.0              \n",
      " m2_deaths_ct     | 10.0              \n",
      " m2_kddiff_ct     | 7.0               \n",
      " m2_adr_ct        | 93.7              \n",
      " m2_kast_ct       | 83.3              \n",
      " m2_rating_ct     | 1.41              \n",
      " m2_kills_t       | 13.0              \n",
      " m2_deaths_t      | 14.0              \n",
      " m2_kddiff_t      | -1.0              \n",
      " m2_adr_t         | 105.3             \n",
      " m2_kast_t        | 62.5              \n",
      " m2_rating_t      | 1.35              \n",
      " m3_kills_ct      | 9.0               \n",
      " m3_deaths_ct     | 10.0              \n",
      " m3_kddiff_ct     | -1.0              \n",
      " m3_adr_ct        | 72.5              \n",
      " m3_kast_ct       | 80.0              \n",
      " m3_rating_ct     | 0.93              \n",
      " m3_kills_t       | 7.0               \n",
      " m3_deaths_t      | 9.0               \n",
      " m3_kddiff_t      | -2.0              \n",
      " m3_adr_t         | 70.4              \n",
      " m3_kast_t        | 63.6              \n",
      " m3_rating_t      | 0.89              \n",
      "only showing top 1 row\n",
      "\n"
     ]
    }
   ],
   "source": [
    "player_info_sparkdf.show(1, vertical=True)"
   ]
  },
  {
   "cell_type": "code",
   "execution_count": 11,
   "id": "a01254de-40ea-4ae3-9f1d-8b58f0a2e7d2",
   "metadata": {
    "tags": []
   },
   "outputs": [
    {
     "data": {
      "text/plain": [
       "['date',\n",
       " 'player_name',\n",
       " 'team',\n",
       " 'opponent',\n",
       " 'country',\n",
       " 'player_id',\n",
       " 'match_id',\n",
       " 'event_id',\n",
       " 'event_name',\n",
       " 'best_of',\n",
       " 'map_1',\n",
       " 'map_2',\n",
       " 'map_3',\n",
       " 'kills',\n",
       " 'assists',\n",
       " 'deaths',\n",
       " 'hs',\n",
       " 'flash_assists',\n",
       " 'kast',\n",
       " 'kddiff',\n",
       " 'adr',\n",
       " 'fkdiff',\n",
       " 'rating',\n",
       " 'm1_kills',\n",
       " 'm1_assists',\n",
       " 'm1_deaths',\n",
       " 'm1_hs',\n",
       " 'm1_flash_assists',\n",
       " 'm1_kast',\n",
       " 'm1_kddiff',\n",
       " 'm1_adr',\n",
       " 'm1_fkdiff',\n",
       " 'm1_rating',\n",
       " 'm2_kills',\n",
       " 'm2_assists',\n",
       " 'm2_deaths',\n",
       " 'm2_hs',\n",
       " 'm2_flash_assists',\n",
       " 'm2_kast',\n",
       " 'm2_kddiff',\n",
       " 'm2_adr',\n",
       " 'm2_fkdiff',\n",
       " 'm2_rating',\n",
       " 'm3_kills',\n",
       " 'm3_assists',\n",
       " 'm3_deaths',\n",
       " 'm3_hs',\n",
       " 'm3_flash_assists',\n",
       " 'm3_kast',\n",
       " 'm3_kddiff',\n",
       " 'm3_adr',\n",
       " 'm3_fkdiff',\n",
       " 'm3_rating',\n",
       " 'kills_ct',\n",
       " 'deaths_ct',\n",
       " 'kddiff_ct',\n",
       " 'adr_ct',\n",
       " 'kast_ct',\n",
       " 'rating_ct',\n",
       " 'kills_t',\n",
       " 'deaths_t',\n",
       " 'kddiff_t',\n",
       " 'adr_t',\n",
       " 'kast_t',\n",
       " 'rating_t',\n",
       " 'm1_kills_ct',\n",
       " 'm1_deaths_ct',\n",
       " 'm1_kddiff_ct',\n",
       " 'm1_adr_ct',\n",
       " 'm1_kast_ct',\n",
       " 'm1_rating_ct',\n",
       " 'm1_kills_t',\n",
       " 'm1_deaths_t',\n",
       " 'm1_kddiff_t',\n",
       " 'm1_adr_t',\n",
       " 'm1_kast_t',\n",
       " 'm1_rating_t',\n",
       " 'm2_kills_ct',\n",
       " 'm2_deaths_ct',\n",
       " 'm2_kddiff_ct',\n",
       " 'm2_adr_ct',\n",
       " 'm2_kast_ct',\n",
       " 'm2_rating_ct',\n",
       " 'm2_kills_t',\n",
       " 'm2_deaths_t',\n",
       " 'm2_kddiff_t',\n",
       " 'm2_adr_t',\n",
       " 'm2_kast_t',\n",
       " 'm2_rating_t',\n",
       " 'm3_kills_ct',\n",
       " 'm3_deaths_ct',\n",
       " 'm3_kddiff_ct',\n",
       " 'm3_adr_ct',\n",
       " 'm3_kast_ct',\n",
       " 'm3_rating_ct',\n",
       " 'm3_kills_t',\n",
       " 'm3_deaths_t',\n",
       " 'm3_kddiff_t',\n",
       " 'm3_adr_t',\n",
       " 'm3_kast_t',\n",
       " 'm3_rating_t']"
      ]
     },
     "execution_count": 11,
     "metadata": {},
     "output_type": "execute_result"
    }
   ],
   "source": [
    "player_info_sparkdf.columns"
   ]
  },
  {
   "cell_type": "code",
   "execution_count": 12,
   "id": "b405f9c7-bffb-4554-be8f-7f78e5702ae9",
   "metadata": {},
   "outputs": [],
   "source": [
    "player_stats = player_info_sparkdf.select(\n",
    "    'player_id',\n",
    "    'player_name',\n",
    "    'team',\n",
    "    'kills',\n",
    "    'assists',\n",
    "    'deaths',\n",
    "    'hs',\n",
    "    'flash_assists',\n",
    "    'event_name')"
   ]
  },
  {
   "cell_type": "code",
   "execution_count": 13,
   "id": "ae20030b-a855-40b1-911d-af5660bc32f6",
   "metadata": {},
   "outputs": [
    {
     "name": "stdout",
     "output_type": "stream",
     "text": [
      "-RECORD 0--------------------------\n",
      " player_id     | 9136              \n",
      " player_name   | Brehze            \n",
      " team          | Evil Geniuses     \n",
      " kills         | 57                \n",
      " assists       | 14                \n",
      " deaths        | 61                \n",
      " hs            | 29                \n",
      " flash_assists | 0.0               \n",
      " event_name    | IEM Katowice 2020 \n",
      "only showing top 1 row\n",
      "\n"
     ]
    }
   ],
   "source": [
    "player_stats.show(1, vertical=True)"
   ]
  },
  {
   "cell_type": "markdown",
   "id": "d8ca9a49-61e2-4625-b61c-6d39311e9d9b",
   "metadata": {},
   "source": [
    "# Selecting a Team"
   ]
  },
  {
   "cell_type": "code",
   "execution_count": 14,
   "id": "11ff4a73-4e3b-467e-91a9-18564484a4d7",
   "metadata": {
    "tags": []
   },
   "outputs": [
    {
     "name": "stdout",
     "output_type": "stream",
     "text": [
      "+-------------+\n",
      "|         team|\n",
      "+-------------+\n",
      "|  smh my head|\n",
      "|      Nemesis|\n",
      "|         Orda|\n",
      "|    The Prime|\n",
      "|       Emprox|\n",
      "|   CYBERSABLE|\n",
      "|  DESTRUCTORS|\n",
      "|     essketit|\n",
      "|      FTW.PRO|\n",
      "|Keymotion Red|\n",
      "|     Fireplay|\n",
      "| Zero Respect|\n",
      "|    BANANFLAX|\n",
      "|   ROG zonixx|\n",
      "|           3P|\n",
      "|       Heaven|\n",
      "|Wyvern Ladies|\n",
      "|       Expert|\n",
      "|      FREEROX|\n",
      "|         AVEZ|\n",
      "+-------------+\n",
      "only showing top 20 rows\n",
      "\n"
     ]
    }
   ],
   "source": [
    "# dintinct teams\n",
    "player_stats.select('team').distinct().show()"
   ]
  },
  {
   "cell_type": "code",
   "execution_count": 15,
   "id": "b5ae8c0f-00dc-4211-8973-ef44a9790c49",
   "metadata": {},
   "outputs": [],
   "source": [
    "team_fnatic = player_stats.filter(player_stats['team'] == 'fnatic')"
   ]
  },
  {
   "cell_type": "code",
   "execution_count": 16,
   "id": "046fb477-0fa8-41aa-854d-05e8876264b1",
   "metadata": {},
   "outputs": [
    {
     "name": "stdout",
     "output_type": "stream",
     "text": [
      "+---------+-----------+------+-----+-------+------+---+-------------+--------------------+\n",
      "|player_id|player_name|  team|kills|assists|deaths| hs|flash_assists|          event_name|\n",
      "+---------+-----------+------+-----+-------+------+---+-------------+--------------------+\n",
      "|    13666|    Brollan|fnatic|   55|     17|    48| 33|          8.0|   IEM Katowice 2020|\n",
      "|    11110|     Golden|fnatic|   45|     12|    51| 27|          2.0|   IEM Katowice 2020|\n",
      "|     3849|         JW|fnatic|   51|     17|    55| 20|          4.0|   IEM Katowice 2020|\n",
      "|     7528|      KRIMZ|fnatic|   69|     17|    44| 30|          8.0|   IEM Katowice 2020|\n",
      "|     3055|     flusha|fnatic|   52|     25|    49| 20|          6.0|   IEM Katowice 2020|\n",
      "|    13666|    Brollan|fnatic|   45|      4|    26| 21|          1.0|   IEM Katowice 2020|\n",
      "|    11110|     Golden|fnatic|   29|     10|    29| 17|          3.0|   IEM Katowice 2020|\n",
      "|     3849|         JW|fnatic|   44|     15|    23| 17|          8.0|   IEM Katowice 2020|\n",
      "|     7528|      KRIMZ|fnatic|   25|     13|    29| 13|          3.0|   IEM Katowice 2020|\n",
      "|     3055|     flusha|fnatic|   38|     13|    32| 18|          1.0|   IEM Katowice 2020|\n",
      "|    13666|    Brollan|fnatic|   71|     12|    58| 46|          2.0|ESL Pro League Se...|\n",
      "|    11110|     Golden|fnatic|   30|     11|    54| 13|          4.0|ESL Pro League Se...|\n",
      "|     3849|         JW|fnatic|   48|     12|    55| 14|          2.0|ESL Pro League Se...|\n",
      "|     7528|      KRIMZ|fnatic|   48|     12|    57| 16|          3.0|ESL Pro League Se...|\n",
      "|     3055|     flusha|fnatic|   35|     16|    55| 16|          5.0|ESL Pro League Se...|\n",
      "|    13666|    Brollan|fnatic|   45|     16|    56| 30|          4.0|ESL Pro League Se...|\n",
      "|    11110|     Golden|fnatic|   51|     15|    56| 27|          7.0|ESL Pro League Se...|\n",
      "|     3849|         JW|fnatic|   58|     14|    50| 24|          4.0|ESL Pro League Se...|\n",
      "|     7528|      KRIMZ|fnatic|   57|     12|    46| 19|          2.0|ESL Pro League Se...|\n",
      "|     3055|     flusha|fnatic|   51|     16|    53| 25|          6.0|ESL Pro League Se...|\n",
      "+---------+-----------+------+-----+-------+------+---+-------------+--------------------+\n",
      "only showing top 20 rows\n",
      "\n"
     ]
    }
   ],
   "source": [
    "team_fnatic.show()"
   ]
  },
  {
   "cell_type": "markdown",
   "id": "72cecadd-cbd8-40d1-8372-4adbd484af47",
   "metadata": {},
   "source": [
    "## Aggregate"
   ]
  },
  {
   "cell_type": "code",
   "execution_count": 17,
   "id": "3e4018e7-c784-4a7d-a96e-b147c7945369",
   "metadata": {},
   "outputs": [],
   "source": [
    "# groupby player_id and aggregate all stats in all games belonging to the player\n",
    "fnatic_player_stats = team_fnatic.groupBy('player_id').sum()"
   ]
  },
  {
   "cell_type": "code",
   "execution_count": 18,
   "id": "abaae768-3dd1-4139-afb5-89b684fb8be3",
   "metadata": {},
   "outputs": [
    {
     "name": "stdout",
     "output_type": "stream",
     "text": [
      "+---------+--------------+----------+------------+-----------+-------+------------------+\n",
      "|player_id|sum(player_id)|sum(kills)|sum(assists)|sum(deaths)|sum(hs)|sum(flash_assists)|\n",
      "+---------+--------------+----------+------------+-----------+-------+------------------+\n",
      "|     9255|        148080|       521|         102|        573|    167|              23.0|\n",
      "|     2031|        121860|      1210|         247|       1324|    686|               0.0|\n",
      "|     1146|        297960|      6702|        1216|       6344|   3637|              36.0|\n",
      "|     7528|       4110288|     15400|        3708|      14268|   6196|             587.0|\n",
      "|       41|           943|       401|         108|        523|    170|               0.0|\n",
      "|    11110|       2188670|      4833|        1467|       5623|   2493|             308.0|\n",
      "|     9256|        194376|       384|          80|        477|    185|               0.0|\n",
      "|      884|        108732|      3293|        1106|       3844|   1456|             311.0|\n",
      "|     9811|         58866|       140|          32|        195|     78|              null|\n",
      "|      994|           994|         9|           3|         21|      3|              null|\n",
      "|      885|        234525|      6735|        1266|       6079|   2957|              45.0|\n",
      "|     9911|         29733|       134|          35|        137|     55|              10.0|\n",
      "|    13666|       2022568|      5374|        1131|       4983|   2852|             227.0|\n",
      "|     3849|       2063064|     15554|        3257|      15084|   5959|             404.0|\n",
      "|     9261|       1852200|      4860|        1076|       4490|   2494|             155.0|\n",
      "|     3055|       1310595|     11714|        3404|      11242|   5004|             459.0|\n",
      "|      153|           612|        52|          18|        108|     20|               0.0|\n",
      "|     7390|         44340|       165|          33|        179|    104|               8.0|\n",
      "|     7443|       1272753|      4706|        1069|       4520|   1927|             186.0|\n",
      "+---------+--------------+----------+------------+-----------+-------+------------------+\n",
      "\n"
     ]
    }
   ],
   "source": [
    "fnatic_player_stats.show()"
   ]
  },
  {
   "cell_type": "code",
   "execution_count": 19,
   "id": "0061ca2b-b468-4ffe-8f0c-47f6648f6603",
   "metadata": {},
   "outputs": [],
   "source": [
    "# get descriptive summary of players in devil team\n",
    "fnatic_player_stats_summary = fnatic_player_stats.summary()"
   ]
  },
  {
   "cell_type": "code",
   "execution_count": 20,
   "id": "a8263e8b-60cc-4ca9-9df9-5aa5036d5974",
   "metadata": {},
   "outputs": [
    {
     "name": "stdout",
     "output_type": "stream",
     "text": [
      "-RECORD 0--------------------------------\n",
      " summary            | count              \n",
      " player_id          | 19                 \n",
      " sum(player_id)     | 19                 \n",
      " sum(kills)         | 19                 \n",
      " sum(assists)       | 19                 \n",
      " sum(deaths)        | 19                 \n",
      " sum(hs)            | 19                 \n",
      " sum(flash_assists) | 17                 \n",
      "-RECORD 1--------------------------------\n",
      " summary            | mean               \n",
      " player_id          | 5666.789473684211  \n",
      " sum(player_id)     | 845324.1578947369  \n",
      " sum(kills)         | 4325.631578947368  \n",
      " sum(assists)       | 1018.8421052631579 \n",
      " sum(deaths)        | 4211.263157894737  \n",
      " sum(hs)            | 1918.0526315789473 \n",
      " sum(flash_assists) | 162.2941176470588  \n",
      "-RECORD 2--------------------------------\n",
      " summary            | stddev             \n",
      " player_id          | 4412.592253728053  \n",
      " sum(player_id)     | 1141625.5147378556 \n",
      " sum(kills)         | 5066.392933510501  \n",
      " sum(assists)       | 1209.9441338415354 \n",
      " sum(deaths)        | 4785.537051506865  \n",
      " sum(hs)            | 2081.6171190709774 \n",
      " sum(flash_assists) | 189.81002499403266 \n",
      "-RECORD 3--------------------------------\n",
      " summary            | min                \n",
      " player_id          | 41                 \n",
      " sum(player_id)     | 612                \n",
      " sum(kills)         | 9                  \n",
      " sum(assists)       | 3                  \n",
      " sum(deaths)        | 21                 \n",
      " sum(hs)            | 3                  \n",
      " sum(flash_assists) | 0.0                \n",
      "-RECORD 4--------------------------------\n",
      " summary            | 25%                \n",
      " player_id          | 994                \n",
      " sum(player_id)     | 44340              \n",
      " sum(kills)         | 165                \n",
      " sum(assists)       | 35                 \n",
      " sum(deaths)        | 195                \n",
      " sum(hs)            | 104                \n",
      " sum(flash_assists) | 8.0                \n",
      "-RECORD 5--------------------------------\n",
      " summary            | 50%                \n",
      " player_id          | 7390               \n",
      " sum(player_id)     | 194376             \n",
      " sum(kills)         | 3293               \n",
      " sum(assists)       | 1069               \n",
      " sum(deaths)        | 3844               \n",
      " sum(hs)            | 1456               \n",
      " sum(flash_assists) | 45.0               \n",
      "-RECORD 6--------------------------------\n",
      " summary            | 75%                \n",
      " player_id          | 9261               \n",
      " sum(player_id)     | 1852200            \n",
      " sum(kills)         | 6702               \n",
      " sum(assists)       | 1266               \n",
      " sum(deaths)        | 6079               \n",
      " sum(hs)            | 2957               \n",
      " sum(flash_assists) | 308.0              \n",
      "-RECORD 7--------------------------------\n",
      " summary            | max                \n",
      " player_id          | 13666              \n",
      " sum(player_id)     | 4110288            \n",
      " sum(kills)         | 15554              \n",
      " sum(assists)       | 3708               \n",
      " sum(deaths)        | 15084              \n",
      " sum(hs)            | 6196               \n",
      " sum(flash_assists) | 587.0              \n",
      "\n"
     ]
    }
   ],
   "source": [
    "# show summary\n",
    "fnatic_player_stats_summary.show(vertical=True)"
   ]
  },
  {
   "cell_type": "markdown",
   "id": "e660e0c6-0a2a-4db5-bbf6-ba86ecca547c",
   "metadata": {},
   "source": [
    "# Box plots"
   ]
  },
  {
   "cell_type": "code",
   "execution_count": 22,
   "id": "2c41e4a7-d9bd-4c9e-bf03-7e218588d5c4",
   "metadata": {},
   "outputs": [],
   "source": [
    "team_fnatic = team_fnatic.toPandas()"
   ]
  },
  {
   "cell_type": "code",
   "execution_count": 23,
   "id": "3ad71f4e-cab6-492d-8c7f-9e3a6b55d9ef",
   "metadata": {},
   "outputs": [
    {
     "data": {
      "text/html": [
       "<div>\n",
       "<style scoped>\n",
       "    .dataframe tbody tr th:only-of-type {\n",
       "        vertical-align: middle;\n",
       "    }\n",
       "\n",
       "    .dataframe tbody tr th {\n",
       "        vertical-align: top;\n",
       "    }\n",
       "\n",
       "    .dataframe thead th {\n",
       "        text-align: right;\n",
       "    }\n",
       "</style>\n",
       "<table border=\"1\" class=\"dataframe\">\n",
       "  <thead>\n",
       "    <tr style=\"text-align: right;\">\n",
       "      <th></th>\n",
       "      <th>player_id</th>\n",
       "      <th>player_name</th>\n",
       "      <th>team</th>\n",
       "      <th>kills</th>\n",
       "      <th>assists</th>\n",
       "      <th>deaths</th>\n",
       "      <th>hs</th>\n",
       "      <th>flash_assists</th>\n",
       "      <th>event_name</th>\n",
       "    </tr>\n",
       "  </thead>\n",
       "  <tbody>\n",
       "    <tr>\n",
       "      <th>0</th>\n",
       "      <td>13666</td>\n",
       "      <td>Brollan</td>\n",
       "      <td>fnatic</td>\n",
       "      <td>55</td>\n",
       "      <td>17</td>\n",
       "      <td>48</td>\n",
       "      <td>33</td>\n",
       "      <td>8.0</td>\n",
       "      <td>IEM Katowice 2020</td>\n",
       "    </tr>\n",
       "    <tr>\n",
       "      <th>1</th>\n",
       "      <td>11110</td>\n",
       "      <td>Golden</td>\n",
       "      <td>fnatic</td>\n",
       "      <td>45</td>\n",
       "      <td>12</td>\n",
       "      <td>51</td>\n",
       "      <td>27</td>\n",
       "      <td>2.0</td>\n",
       "      <td>IEM Katowice 2020</td>\n",
       "    </tr>\n",
       "    <tr>\n",
       "      <th>2</th>\n",
       "      <td>3849</td>\n",
       "      <td>JW</td>\n",
       "      <td>fnatic</td>\n",
       "      <td>51</td>\n",
       "      <td>17</td>\n",
       "      <td>55</td>\n",
       "      <td>20</td>\n",
       "      <td>4.0</td>\n",
       "      <td>IEM Katowice 2020</td>\n",
       "    </tr>\n",
       "    <tr>\n",
       "      <th>3</th>\n",
       "      <td>7528</td>\n",
       "      <td>KRIMZ</td>\n",
       "      <td>fnatic</td>\n",
       "      <td>69</td>\n",
       "      <td>17</td>\n",
       "      <td>44</td>\n",
       "      <td>30</td>\n",
       "      <td>8.0</td>\n",
       "      <td>IEM Katowice 2020</td>\n",
       "    </tr>\n",
       "    <tr>\n",
       "      <th>4</th>\n",
       "      <td>3055</td>\n",
       "      <td>flusha</td>\n",
       "      <td>fnatic</td>\n",
       "      <td>52</td>\n",
       "      <td>25</td>\n",
       "      <td>49</td>\n",
       "      <td>20</td>\n",
       "      <td>6.0</td>\n",
       "      <td>IEM Katowice 2020</td>\n",
       "    </tr>\n",
       "  </tbody>\n",
       "</table>\n",
       "</div>"
      ],
      "text/plain": [
       "   player_id player_name    team  kills  assists  deaths  hs  flash_assists  \\\n",
       "0      13666     Brollan  fnatic     55       17      48  33            8.0   \n",
       "1      11110      Golden  fnatic     45       12      51  27            2.0   \n",
       "2       3849          JW  fnatic     51       17      55  20            4.0   \n",
       "3       7528       KRIMZ  fnatic     69       17      44  30            8.0   \n",
       "4       3055      flusha  fnatic     52       25      49  20            6.0   \n",
       "\n",
       "          event_name  \n",
       "0  IEM Katowice 2020  \n",
       "1  IEM Katowice 2020  \n",
       "2  IEM Katowice 2020  \n",
       "3  IEM Katowice 2020  \n",
       "4  IEM Katowice 2020  "
      ]
     },
     "execution_count": 23,
     "metadata": {},
     "output_type": "execute_result"
    }
   ],
   "source": [
    "team_fnatic.head()"
   ]
  },
  {
   "cell_type": "code",
   "execution_count": 49,
   "id": "281856ae-715c-4fbf-861b-a104bf2d9cbb",
   "metadata": {},
   "outputs": [
    {
     "data": {
      "image/png": "[encoded data removed]",
      "text/plain": [
       "<Figure size 1080x720 with 1 Axes>"
      ]
     },
     "metadata": {
      "needs_background": "light"
     },
     "output_type": "display_data"
    }
   ],
   "source": [
    "f, ax = plt.subplots(figsize=(15,10))\n",
    "player_kda_k = sns.boxplot(\n",
    "    data=team_fnatic,\n",
    "    x='kills',\n",
    "    y='player_name',\n",
    "    palette='Set2');\n",
    "player_kda_k.set_title('Fnatic.Player Kills', fontsize=20);"
   ]
  },
  {
   "cell_type": "code",
   "execution_count": 50,
   "id": "15bbe21d-d6a2-4793-b648-99875265f9a6",
   "metadata": {},
   "outputs": [
    {
     "data": {
      "image/png": "[encoded data removed]",
      "text/plain": [
       "<Figure size 1080x720 with 1 Axes>"
      ]
     },
     "metadata": {
      "needs_background": "light"
     },
     "output_type": "display_data"
    }
   ],
   "source": [
    "f, ax = plt.subplots(figsize=(15,10))\n",
    "player_kda_d = sns.boxplot(\n",
    "    data=team_fnatic,\n",
    "    x='deaths',\n",
    "    y='player_name',\n",
    "    palette='Set2');\n",
    "player_kda_d.set_title('Fnatic.Player Deaths', fontsize=20);"
   ]
  },
  {
   "cell_type": "code",
   "execution_count": 51,
   "id": "3f64e3be-5535-4874-b8fa-4d2e8fccb6a9",
   "metadata": {},
   "outputs": [
    {
     "data": {
      "image/png": "[encoded data removed]",
      "text/plain": [
       "<Figure size 1080x720 with 1 Axes>"
      ]
     },
     "metadata": {
      "needs_background": "light"
     },
     "output_type": "display_data"
    }
   ],
   "source": [
    "f, ax = plt.subplots(figsize=(15,10))\n",
    "player_kda_a = sns.boxplot(\n",
    "    data=team_fnatic,\n",
    "    x='assists',\n",
    "    y='player_name',\n",
    "    palette='Set2');\n",
    "player_kda_a.set_title('Fnatic.Player Assists', fontsize=20);"
   ]
  },
  {
   "cell_type": "code",
   "execution_count": 52,
   "id": "67219a87-e6bc-487e-a40a-793f652163ef",
   "metadata": {},
   "outputs": [
    {
     "data": {
      "image/png": "[encoded data removed]",
      "text/plain": [
       "<Figure size 1080x720 with 1 Axes>"
      ]
     },
     "metadata": {
      "needs_background": "light"
     },
     "output_type": "display_data"
    }
   ],
   "source": [
    "f, ax = plt.subplots(figsize=(15,10))\n",
    "player_flash_assist = sns.boxplot(\n",
    "    data=team_fnatic,\n",
    "    x='flash_assists',\n",
    "    y='player_name',\n",
    "    palette='Set2');\n",
    "player_flash_assist.set_title('Fnatic.Player Flash Assists', fontsize=20);"
   ]
  }
 ],
 "metadata": {
  "kernelspec": {
   "display_name": "Python 3",
   "language": "python",
   "name": "python3"
  },
  "language_info": {
   "codemirror_mode": {
    "name": "ipython",
    "version": 3
   },
   "file_extension": ".py",
   "mimetype": "text/x-python",
   "name": "python",
   "nbconvert_exporter": "python",
   "pygments_lexer": "ipython3",
   "version": "3.9.0"
  }
 },
 "nbformat": 4,
 "nbformat_minor": 5
}
