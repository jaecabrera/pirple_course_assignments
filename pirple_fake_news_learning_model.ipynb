{
 "cells": [
  {
   "cell_type": "markdown",
   "metadata": {
    "id": "M7JvW2wmFGhA"
   },
   "source": [
    "## Pirple Exam\n",
    "\n",
    "    3. The notebook formulas that can analyze the spam news dataset(s) and learn from them.\n"
   ]
  },
  {
   "cell_type": "markdown",
   "metadata": {
    "id": "1239rwFuqfqi"
   },
   "source": [
    "Requirements"
   ]
  },
  {
   "cell_type": "code",
   "execution_count": null,
   "metadata": {
    "id": "X3CXFppZqVhr"
   },
   "outputs": [],
   "source": [
    "!pip install spacy==2.2.3 \n",
    "!python -m spacy download en_core_web_sm\n",
    "!pip install beautifulsoup4==4.9.1\n",
    "!pip install textblob==0.15.3\n",
    "!pip install texthero"
   ]
  },
  {
   "cell_type": "markdown",
   "metadata": {
    "id": "tdCLzBICqiKA"
   },
   "source": [
    "Modules"
   ]
  },
  {
   "cell_type": "code",
   "execution_count": 88,
   "metadata": {
    "id": "BjEnZxwzoiLk"
   },
   "outputs": [],
   "source": [
    "import numpy as np\n",
    "import pandas as pd\n",
    "import nltk\n",
    "import texthero as hero\n",
    "import gensim\n",
    "import re\n",
    "import timeit\n",
    "from dataclasses import dataclass\n",
    "\n",
    "from typing import List\n",
    "from tensorflow.keras.preprocessing.text import Tokenizer\n",
    "from tensorflow.keras.preprocessing.sequence import pad_sequences\n",
    "from tensorflow.keras.models import Sequential\n",
    "from tensorflow.keras.layers import Dense, Embedding, LSTM, Conv1D, MaxPool1D\n",
    "import tensorflow as tf\n",
    "from sklearn.model_selection import train_test_split\n",
    "from sklearn.metrics import classification_report, accuracy_score"
   ]
  },
  {
   "cell_type": "code",
   "execution_count": 89,
   "metadata": {
    "id": "CbMWvxnfqmTe"
   },
   "outputs": [],
   "source": [
    "data = pd.read_csv('./learning_data/ml_learning_data.csv')"
   ]
  },
  {
   "cell_type": "code",
   "execution_count": 90,
   "metadata": {
    "colab": {
     "base_uri": "https://localhost:8080/",
     "height": 424
    },
    "id": "nKRzpsnPQKwx",
    "outputId": "d47de608-ed0f-4360-a2f6-88e3d823debf"
   },
   "outputs": [
    {
     "data": {
      "text/html": [
       "<div>\n",
       "<style scoped>\n",
       "    .dataframe tbody tr th:only-of-type {\n",
       "        vertical-align: middle;\n",
       "    }\n",
       "\n",
       "    .dataframe tbody tr th {\n",
       "        vertical-align: top;\n",
       "    }\n",
       "\n",
       "    .dataframe thead th {\n",
       "        text-align: right;\n",
       "    }\n",
       "</style>\n",
       "<table border=\"1\" class=\"dataframe\">\n",
       "  <thead>\n",
       "    <tr style=\"text-align: right;\">\n",
       "      <th></th>\n",
       "      <th>description</th>\n",
       "      <th>news_is</th>\n",
       "    </tr>\n",
       "  </thead>\n",
       "  <tbody>\n",
       "    <tr>\n",
       "      <th>0</th>\n",
       "      <td>trump tax cut plan gains momentum after u.s. b...</td>\n",
       "      <td>1</td>\n",
       "    </tr>\n",
       "    <tr>\n",
       "      <th>1</th>\n",
       "      <td>whoa! college snowflake freaks out: screams fo...</td>\n",
       "      <td>0</td>\n",
       "    </tr>\n",
       "    <tr>\n",
       "      <th>2</th>\n",
       "      <td>russia's lavrov says hopes syrian congress to ...</td>\n",
       "      <td>1</td>\n",
       "    </tr>\n",
       "    <tr>\n",
       "      <th>3</th>\n",
       "      <td>cftc poised to lose sole democratic commission...</td>\n",
       "      <td>1</td>\n",
       "    </tr>\n",
       "    <tr>\n",
       "      <th>4</th>\n",
       "      <td>trump just slammed u.s. shut to far more than...</td>\n",
       "      <td>0</td>\n",
       "    </tr>\n",
       "    <tr>\n",
       "      <th>...</th>\n",
       "      <td>...</td>\n",
       "      <td>...</td>\n",
       "    </tr>\n",
       "    <tr>\n",
       "      <th>44893</th>\n",
       "      <td>qatari emir to attend gulf summit despite row:...</td>\n",
       "      <td>1</td>\n",
       "    </tr>\n",
       "    <tr>\n",
       "      <th>44894</th>\n",
       "      <td>u.s. academic groups oppose trump's visa-vetti...</td>\n",
       "      <td>1</td>\n",
       "    </tr>\n",
       "    <tr>\n",
       "      <th>44895</th>\n",
       "      <td>nbc management “protected the sh*t out of him”...</td>\n",
       "      <td>0</td>\n",
       "    </tr>\n",
       "    <tr>\n",
       "      <th>44896</th>\n",
       "      <td>boiler room ep #85 – the return of the social ...</td>\n",
       "      <td>0</td>\n",
       "    </tr>\n",
       "    <tr>\n",
       "      <th>44897</th>\n",
       "      <td>white supremacists robocall for trump ahead o...</td>\n",
       "      <td>0</td>\n",
       "    </tr>\n",
       "  </tbody>\n",
       "</table>\n",
       "<p>44898 rows × 2 columns</p>\n",
       "</div>"
      ],
      "text/plain": [
       "                                             description  news_is\n",
       "0      trump tax cut plan gains momentum after u.s. b...        1\n",
       "1      whoa! college snowflake freaks out: screams fo...        0\n",
       "2      russia's lavrov says hopes syrian congress to ...        1\n",
       "3      cftc poised to lose sole democratic commission...        1\n",
       "4       trump just slammed u.s. shut to far more than...        0\n",
       "...                                                  ...      ...\n",
       "44893  qatari emir to attend gulf summit despite row:...        1\n",
       "44894  u.s. academic groups oppose trump's visa-vetti...        1\n",
       "44895  nbc management “protected the sh*t out of him”...        0\n",
       "44896  boiler room ep #85 – the return of the social ...        0\n",
       "44897   white supremacists robocall for trump ahead o...        0\n",
       "\n",
       "[44898 rows x 2 columns]"
      ]
     },
     "execution_count": 90,
     "metadata": {
      "tags": []
     },
     "output_type": "execute_result"
    }
   ],
   "source": [
    "data"
   ]
  },
  {
   "cell_type": "code",
   "execution_count": 91,
   "metadata": {
    "colab": {
     "base_uri": "https://localhost:8080/",
     "height": 738
    },
    "id": "yIyfRdZnS1UH",
    "outputId": "863662fb-47eb-49d3-fa68-39cf57caed9d"
   },
   "outputs": [
    {
     "data": {
      "text/html": [
       "<style  type=\"text/css\" >\n",
       "#T_31ed04c4_f463_11eb_b490_0242ac1c0002row0_col1,#T_31ed04c4_f463_11eb_b490_0242ac1c0002row2_col1,#T_31ed04c4_f463_11eb_b490_0242ac1c0002row3_col1{\n",
       "            background-color:  #084081;\n",
       "            color:  #f1f1f1;\n",
       "        }#T_31ed04c4_f463_11eb_b490_0242ac1c0002row1_col1,#T_31ed04c4_f463_11eb_b490_0242ac1c0002row4_col1{\n",
       "            background-color:  #f7fcf0;\n",
       "            color:  #000000;\n",
       "        }</style><table id=\"T_31ed04c4_f463_11eb_b490_0242ac1c0002\" ><thead>    <tr>        <th class=\"blank level0\" ></th>        <th class=\"col_heading level0 col0\" >description</th>        <th class=\"col_heading level0 col1\" >news_is</th>    </tr></thead><tbody>\n",
       "                <tr>\n",
       "                        <th id=\"T_31ed04c4_f463_11eb_b490_0242ac1c0002level0_row0\" class=\"row_heading level0 row0\" >0</th>\n",
       "                        <td id=\"T_31ed04c4_f463_11eb_b490_0242ac1c0002row0_col0\" class=\"data row0 col0\" >trump tax cut plan gains momentum after u.s. budget vote president donald trump’s tax reform plans won partial support on friday when republican u.s. senator rand paul said he was “all in” for massive tax cuts, but the party was still far from united over how to achieve the main item on its domestic agenda.  trump’s drive to overhaul the u.s. tax code cleared a critical hurdle on thursday when the senate approved a budget measure that will allow republicans to pursue a tax-cut package without democratic party support. but republicans, who control both the senate and house of representatives, have yet to produce a tax reform bill as a self-imposed deadline to overhaul the u.s. tax code by the end of the year approaches. the party’s lawmakers differ widely on what cuts to make and how to pay for them.  they are under intense pressure to succeed on tax reform after failing so far to make good on their other main legislative ambition: scrapping obamacare, the signature healthcare law of former president barack obama.  on major world markets, stock prices advanced on friday, bond yields rose, and the u.s. dollar strengthened on increased hopes that trump could make progress on his fiscal plans. democrats are likely to reject the trump administration’s tax plan, which promises to deliver up to $6 trillion in tax cuts to businesses and people but will bloat the federal deficit by $1.5 trillion over the next decade. senator rand paul, a fiscal hawk, was the lone republican to vote against the budget measure on thursday. he objected to spending levels that he said would exceed agreed caps by $43 billion, and called for spending reforms for so-called entitlements such as the medicare and medicaid health insurance programs. on friday, paul said in a post on twitter that he was “all in” for the “biggest, boldest cuts possible - and soon!” but he did not address the specifics of the tax plan. trump on friday expressed optimism about the tax reform, saying paul would eventually back the proposed tax measure when it comes up for a vote. “the budget passed late last night, 51 to 49. we got zero democrat votes with only rand paul (he will vote for tax cuts) voting against,” trump wrote on twitter. “this now allows for the passage of large scale tax cuts (and reform), which will be the biggest in the history of our country!”   trump told fox business network in a television interview set to air on sunday that he thinks republicans have the votes to pass a big tax cut package. he said he had been thinking about tying tax legislation to an infrastructure spending bill but that it was not clear a combined package would gain more votes. “i don’t want to take any chances cause i feel we have the votes right now the way it is,” he said, according to a transcript provided by the cable news outlet. the budget resolution passed by the senate on thursday has to be reconciled with a markedly different version passed by the house, where republicans say negotiations on a unified measure could take up to two weeks. the house budget resolution calls for a revenue-neutral tax bill and would combine tax cuts with $203 billion in spending cuts to mandatory programs, including food assistance for the poor. as far as spending cuts go, the senate version only instructs the energy and natural resources committee to save at least $1 billion over the next decade.     that difference could set up a possible conflict between republicans in the senate and house as they negotiate a final budget blueprint.   overhauling the complex u.s. tax code has defied washington since 1986.     in the current effort, some republican senators question the planned repeal of a 40 percent inheritance tax levied on estates worth more than $5.5 million, or $11 million for married couples, a tax paid only by the wealthiest american taxpayers.      republican lawmakers from high-tax states such as new york are also seeking compromise on repealing the deduction from federal taxes for state and local tax payments. the party’s lawmakers agree roughly on lowering the corporate income tax rate from 35 percent but have not settled on a final number.     trump seeks to cut the corporate rate to 20 percent, which he says would create jobs and boost wages for blue-collar workers.             asked how he would make the case that the plan would not be a tax cut for the wealthy, house speaker paul ryan told cbs,  “that’s why we’re introducing the fourth bracket, so that high-income earners do not see a big rate cut and those resources go to the middle class ... and closing loopholes and carve outs which disproportionately benefit the very high-income people.”    </td>\n",
       "                        <td id=\"T_31ed04c4_f463_11eb_b490_0242ac1c0002row0_col1\" class=\"data row0 col1\" >1</td>\n",
       "            </tr>\n",
       "            <tr>\n",
       "                        <th id=\"T_31ed04c4_f463_11eb_b490_0242ac1c0002level0_row1\" class=\"row_heading level0 row1\" >1</th>\n",
       "                        <td id=\"T_31ed04c4_f463_11eb_b490_0242ac1c0002row1_col0\" class=\"data row1 col0\" >whoa! college snowflake freaks out: screams for two minutes over a trump sign on campus so much for healthy debate on college campus instead, liberals deal with conflict by screaming at the top of their lungs in protest. how mature a shocking new video shows a western washington university student screaming for at least two-minutes straight after seeing a donald trump sign on campus.according to a video of the incident obtained by campus reform, an unknown student reacted to a street preacher s pro-trump sign by spiraling into a two-minute fit, at some points even splattering paint on the ground in an apparent attempt at artistic protest.at certain points throughout the video, passers-by stop to ask the woman if she s alright, to which she seems to indicate that she s screaming as a form of protest.this  woman  needs to go back to pre-school to learn how to behave. screaming gets nothing done it just makes people want to run away from you. how about mature discussion and debate?read more: campus reform</td>\n",
       "                        <td id=\"T_31ed04c4_f463_11eb_b490_0242ac1c0002row1_col1\" class=\"data row1 col1\" >0</td>\n",
       "            </tr>\n",
       "            <tr>\n",
       "                        <th id=\"T_31ed04c4_f463_11eb_b490_0242ac1c0002level0_row2\" class=\"row_heading level0 row2\" >2</th>\n",
       "                        <td id=\"T_31ed04c4_f463_11eb_b490_0242ac1c0002row2_col0\" class=\"data row2 col0\" >russia's lavrov says hopes syrian congress to happen soon russian foreign minister sergei lavrov said on tuesday he hoped that an international syrian peace congress would take place in the near future.  the russian-sponsored syrian peace congress scheduled for nov. 18 was postponed after objections by turkey, president tayyip erdogan s spokesman said over the weekend.  asked whether the congress was postponed, lavrov told a briefing that the date had not been officially announced. he added that he hoped that the united nations would support holding the congress.  </td>\n",
       "                        <td id=\"T_31ed04c4_f463_11eb_b490_0242ac1c0002row2_col1\" class=\"data row2 col1\" >1</td>\n",
       "            </tr>\n",
       "            <tr>\n",
       "                        <th id=\"T_31ed04c4_f463_11eb_b490_0242ac1c0002level0_row3\" class=\"row_heading level0 row3\" >3</th>\n",
       "                        <td id=\"T_31ed04c4_f463_11eb_b490_0242ac1c0002row3_col0\" class=\"data row3 col0\" >cftc poised to lose sole democratic commissioner bowen in coming months the top u.s. derivatives regulator is about to lose its sole democratic commissioner in the coming months, with sharon bowen announcing on tuesday she intends to step down. bowen announced her plans at a public meeting on tuesday, saying she will try to time her departure around when the u.s. senate confirms another commodity futures trading commission member nominated by president donald trump. trump has thus far nominated three new republican members of the cftc, including its acting chairman chris giancarlo. he will need to nominate two democrats to round out the five-member panel. </td>\n",
       "                        <td id=\"T_31ed04c4_f463_11eb_b490_0242ac1c0002row3_col1\" class=\"data row3 col1\" >1</td>\n",
       "            </tr>\n",
       "            <tr>\n",
       "                        <th id=\"T_31ed04c4_f463_11eb_b490_0242ac1c0002level0_row4\" class=\"row_heading level0 row4\" >4</th>\n",
       "                        <td id=\"T_31ed04c4_f463_11eb_b490_0242ac1c0002row4_col0\" class=\"data row4 col0\" > trump just slammed u.s. shut to far more than refugees – worldwide chaos reigns it s chaos all across the nation s ports of entry today, and indeed, the world over, as trump s muslim ban goes into effect. the ban bars not just refugees from iran, iraq, somalia, yemen, libya, sudan, and syria, but also legal permanent residents (green card holders). a spokesperson for the department of homeland security told reuters simply: it will bar green card holders. that s ridiculous. that s just patently absurd. that s just vile, sick and disgusting. trump is an asshole   there s literally no other way to put it.but that s not all who will be refused entry to the u.s. work visa holders, student visa holders, and more also find themselves in limbo today. as the new york times put it: president trump s executive order on immigration quickly reverberated through the united states and across the globe on saturday, slamming the border shut for an iranian scientist headed to a lab in boston, an iraqi who had worked as an interpreter for the united states army, and a syrian refugee family headed to a new life in ohio, among countless others. a lot of these people were in the air, on their way here, when trump signed that order and now they can t get in, but they can t go home either because they re refugees, or they re people who need to be here for one reason or another.two iraqis being held at new york s john f. kennedy international airport have already filed a lawsuit over this. one supposedly has been released from detention, but there s no word yet if he s free to go on his way or is being put on a plane back to iraq.the lawyers for these two say that detaining individuals with valid visas is illegal and it may well be. however, court papers say that authorities from u.s. customs and border protection wouldn t allow lawyers to meet with these two. they were reportedly told to try and talk to trump directly, and weren t even allowed to speak to u.s. reps. jerrold nadler or nydia velasquez: when mr. darweesh s attorneys approached cbp requesting to speak with mr. darweesh, cbp indicated that they were not the ones to talk to about seeing their client. when the attorneys asked,  who is the person to talk to?  the cbp agents responded,  mr. president. call mr. trump. in istanbul, security officers reportedly boarded a u.s.-bound plane to remove an iranian woman and her family. iranian green card holders were dumbfounded as to the legal limbo they ve suddenly found themselves in. they don t know how they re going to get to the country they now call home.visas for students and visitors have been suspended indefinitely. refugees are being held where they are, or turned away at u.s. ports of entry. businesses who were counting on unusually talented people from these countries are angry. green card holders who actually live here are stuck, or being turned away.this is trump s america. our unofficial slogan,  the land of the free,  is dead.featured image by olivier douliery via getty images</td>\n",
       "                        <td id=\"T_31ed04c4_f463_11eb_b490_0242ac1c0002row4_col1\" class=\"data row4 col1\" >0</td>\n",
       "            </tr>\n",
       "    </tbody></table>"
      ],
      "text/plain": [
       "<pandas.io.formats.style.Styler at 0x7f12ff38ff90>"
      ]
     },
     "execution_count": 91,
     "metadata": {
      "tags": []
     },
     "output_type": "execute_result"
    }
   ],
   "source": [
    "data.iloc[:5].style.background_gradient(cmap='GnBu')"
   ]
  },
  {
   "cell_type": "markdown",
   "metadata": {
    "id": "5ZeAMcwoqjva"
   },
   "source": [
    "Data Transformations Functions"
   ]
  },
  {
   "cell_type": "code",
   "execution_count": 92,
   "metadata": {
    "id": "9X9Yra6Jqlgt"
   },
   "outputs": [],
   "source": [
    "def clean_strings(dataframe: pd.DataFrame) -> pd.DataFrame:\n",
    "    \"\"\"\n",
    "    :param dataframe:\n",
    "    :returns:\n",
    "    \"\"\"\n",
    "    dataframe = hero.clean(data['description'])\n",
    "    return dataframe"
   ]
  },
  {
   "cell_type": "code",
   "execution_count": 93,
   "metadata": {
    "id": "sk0W5a5YOk5R"
   },
   "outputs": [],
   "source": [
    "def create_word2vec_model(x_list: pd.Series, DIM=100) -> list:\n",
    "    \"\"\"\n",
    "    :param x:\n",
    "    :param DIM:\n",
    "    :returns:\n",
    "    \"\"\"\n",
    "    w2v_model = gensim.models.Word2Vec(\n",
    "        sentences=x_list, size=DIM,\n",
    "        window=10, min_count=1)\n",
    "    \n",
    "    print(f\"\"\"\n",
    "    Total Vocabularies created:\n",
    "    {len(w2v_model.wv.vocab)}\"\"\")\n",
    "    \n",
    "    return w2v_model"
   ]
  },
  {
   "cell_type": "code",
   "execution_count": 94,
   "metadata": {
    "id": "Cv3LxuqoPiih"
   },
   "outputs": [],
   "source": [
    "def tokenize_description(x: List[str]) -> List[int] and Tokenizer:\n",
    "    \"\"\"\n",
    "    :param x:\n",
    "    :returns:\n",
    "    \"\"\"\n",
    "    tokenizer = Tokenizer()\n",
    "    tokenizer.fit_on_texts(x)\n",
    "    X = tokenizer.texts_to_sequences(x)\n",
    "    tk_model = tokenizer\n",
    "    \n",
    "    return X, tk_model"
   ]
  },
  {
   "cell_type": "code",
   "execution_count": 95,
   "metadata": {
    "id": "W6v2G8kBTy1A"
   },
   "outputs": [],
   "source": [
    "def padding_sequence(x, maxlen=1000):\n",
    "    X = pad_sequences(x, maxlen=maxlen)\n",
    "    return X"
   ]
  },
  {
   "cell_type": "markdown",
   "metadata": {
    "id": "ISqt4_E3avas"
   },
   "source": [
    "Classification Model"
   ]
  },
  {
   "cell_type": "code",
   "execution_count": 96,
   "metadata": {
    "id": "wT8YiRHqWVVB"
   },
   "outputs": [],
   "source": [
    "@dataclass\n",
    "class NewsModel:\n",
    "\n",
    "    DIM = 100\n",
    "    maxlen = 1000\n",
    "    vocab_size = None\n",
    "    vocab = None\n",
    "    weight_matrix = None\n",
    "    model = None\n",
    "\n",
    "\n",
    "    def get_weight_matrix(self, word_vec_model, tk_model):\n",
    "        \"\"\"\n",
    "        :param model: word2vec model\n",
    "        \"\"\"\n",
    "        # create vocabulary from token\n",
    "        self.vocab = tk_model\n",
    "        self.vocab_size = len(self.vocab) + 1\n",
    "\n",
    "        weight_mat = np.zeros((self.vocab_size, self.DIM))\n",
    "\n",
    "        for word, idx in self.vocab.items():\n",
    "            weight_mat[idx] = word_vec_model.wv[word]\n",
    "        \n",
    "        self.weight_matrix = weight_mat\n",
    "        print(\"Weigh Matrix Created\")\n",
    "\n",
    "\n",
    "    def create_model(self):\n",
    "\n",
    "        # create sequential model\n",
    "        model = Sequential()\n",
    "\n",
    "        # add embedding weights\n",
    "        model.add(Embedding(\n",
    "            self.vocab_size,\n",
    "            output_dim=self.DIM,\n",
    "            weights=[self.weight_matrix],\n",
    "            input_length=self.maxlen, trainable=False))\n",
    "        \n",
    "        model.add(LSTM(units=128))\n",
    "        model.add(Dense(1, activation='sigmoid'))\n",
    "        model.compile(optimizer='adam', loss='binary_crossentropy',\n",
    "            metrics=['acc'])\n",
    "        \n",
    "        self.model = model"
   ]
  },
  {
   "cell_type": "markdown",
   "metadata": {
    "id": "Nf2IcRgmadqp"
   },
   "source": [
    "Execution"
   ]
  },
  {
   "cell_type": "code",
   "execution_count": 98,
   "metadata": {
    "id": "1geU2WqlbBrW"
   },
   "outputs": [],
   "source": [
    "# seperate our class variable\n",
    "y = data['news_is'].values"
   ]
  },
  {
   "cell_type": "code",
   "execution_count": 99,
   "metadata": {
    "id": "UEwKhBquaRR0"
   },
   "outputs": [],
   "source": [
    "%timeit\n",
    "\n",
    "# clean x_features\n",
    "data_clean_description = clean_strings(data)\n",
    "X = data_clean_description"
   ]
  },
  {
   "cell_type": "code",
   "execution_count": 100,
   "metadata": {
    "id": "1_MaJpXCrVIM"
   },
   "outputs": [],
   "source": [
    "# split x features\n",
    "X = [text.split() for text in X.tolist()]"
   ]
  },
  {
   "cell_type": "code",
   "execution_count": 101,
   "metadata": {
    "colab": {
     "base_uri": "https://localhost:8080/"
    },
    "id": "3aMiBaqFbeUt",
    "outputId": "e54cb29a-7916-496a-afc6-58faf7121d70"
   },
   "outputs": [
    {
     "name": "stdout",
     "output_type": "stream",
     "text": [
      "\n",
      "    Total Vocabularies created:\n",
      "    138659\n"
     ]
    }
   ],
   "source": [
    "%timeit\n",
    "# create word2vec model\n",
    "w2v_model = create_word2vec_model(X)"
   ]
  },
  {
   "cell_type": "code",
   "execution_count": 102,
   "metadata": {
    "id": "CJvtrMNtqAM7"
   },
   "outputs": [],
   "source": [
    "# Tokenize features\n",
    "X, tk_model = tokenize_description(X)"
   ]
  },
  {
   "cell_type": "code",
   "execution_count": 103,
   "metadata": {
    "id": "n27cK5VMdwJF"
   },
   "outputs": [],
   "source": [
    "# padding sequence\n",
    "X = padding_sequence(X)"
   ]
  },
  {
   "cell_type": "markdown",
   "metadata": {
    "id": "GKRhhHuHbVXh"
   },
   "source": [
    "### Create NewsModel Object"
   ]
  },
  {
   "cell_type": "code",
   "execution_count": 104,
   "metadata": {
    "id": "gdBryeHfaiyT"
   },
   "outputs": [],
   "source": [
    "# bloomberg news model object\n",
    "bloomberg = NewsModel()"
   ]
  },
  {
   "cell_type": "code",
   "execution_count": 105,
   "metadata": {
    "colab": {
     "base_uri": "https://localhost:8080/"
    },
    "id": "ufzjpJV8yWdK",
    "outputId": "da17f4ec-c238-406f-f9e8-0c1c351e8fd5"
   },
   "outputs": [
    {
     "name": "stdout",
     "output_type": "stream",
     "text": [
      "Weigh Matrix Created\n"
     ]
    }
   ],
   "source": [
    "bloomberg.get_weight_matrix(\n",
    "    w2v_model,\n",
    "    tk_model.word_index)"
   ]
  },
  {
   "cell_type": "code",
   "execution_count": 106,
   "metadata": {
    "colab": {
     "base_uri": "https://localhost:8080/"
    },
    "id": "EbaRRB5Mv13b",
    "outputId": "987d906a-ae60-481d-a492-4a192991f954"
   },
   "outputs": [
    {
     "name": "stdout",
     "output_type": "stream",
     "text": [
      "1 loop, best of 5: 529 ms per loop\n"
     ]
    }
   ],
   "source": [
    "%%timeit\n",
    "bloomberg.create_model()"
   ]
  },
  {
   "cell_type": "markdown",
   "metadata": {
    "id": "8HDD0ta6vyjK"
   },
   "source": [
    "### Model Summary"
   ]
  },
  {
   "cell_type": "code",
   "execution_count": 107,
   "metadata": {
    "colab": {
     "base_uri": "https://localhost:8080/"
    },
    "id": "kS8k7exqyubd",
    "outputId": "b1f25243-746a-453f-d5f3-a24446eb8e5f"
   },
   "outputs": [
    {
     "name": "stdout",
     "output_type": "stream",
     "text": [
      "Model: \"sequential_12\"\n",
      "_________________________________________________________________\n",
      "Layer (type)                 Output Shape              Param #   \n",
      "=================================================================\n",
      "embedding_11 (Embedding)     (None, 1000, 100)         13865800  \n",
      "_________________________________________________________________\n",
      "lstm_11 (LSTM)               (None, 128)               117248    \n",
      "_________________________________________________________________\n",
      "dense_11 (Dense)             (None, 1)                 129       \n",
      "=================================================================\n",
      "Total params: 13,983,177\n",
      "Trainable params: 117,377\n",
      "Non-trainable params: 13,865,800\n",
      "_________________________________________________________________\n"
     ]
    }
   ],
   "source": [
    "bloomberg.model.summary()"
   ]
  },
  {
   "cell_type": "markdown",
   "metadata": {
    "id": "irwXocwNzTRk"
   },
   "source": [
    "### Train Test Split\n"
   ]
  },
  {
   "cell_type": "code",
   "execution_count": 108,
   "metadata": {
    "id": "yh1_0OYjyzwO"
   },
   "outputs": [],
   "source": [
    "X_train, X_test, y_train, y_test = train_test_split(\n",
    "    X, y, random_state=25)"
   ]
  },
  {
   "cell_type": "code",
   "execution_count": 109,
   "metadata": {
    "colab": {
     "base_uri": "https://localhost:8080/"
    },
    "id": "pyhjh-13zGtZ",
    "outputId": "6d9da8fd-35ac-448d-b1ee-8c07c18253e6"
   },
   "outputs": [
    {
     "name": "stdout",
     "output_type": "stream",
     "text": [
      "737/737 [==============================] - 852s 1s/step - loss: 0.0803 - acc: 0.9734 - val_loss: 0.0425 - val_acc: 0.9869\n"
     ]
    },
    {
     "data": {
      "text/plain": [
       "<tensorflow.python.keras.callbacks.History at 0x7f12ef1e15d0>"
      ]
     },
     "execution_count": 109,
     "metadata": {
      "tags": []
     },
     "output_type": "execute_result"
    }
   ],
   "source": [
    "bloomberg.model.fit(\n",
    "    X_train, y_train, validation_split=0.3,\n",
    "    epochs=1)"
   ]
  },
  {
   "cell_type": "markdown",
   "metadata": {
    "id": "qArqQdgsAX_R"
   },
   "source": [
    "### Save Model"
   ]
  },
  {
   "cell_type": "code",
   "execution_count": 110,
   "metadata": {
    "id": "3ZtMuOmS23BD"
   },
   "outputs": [],
   "source": [
    "bloomberg.model.save('./tf_saved/model/bloomberg_news_model.h5')"
   ]
  },
  {
   "cell_type": "markdown",
   "metadata": {
    "id": "Sehb490kAaMW"
   },
   "source": [
    "### Load Model Test"
   ]
  },
  {
   "cell_type": "code",
   "execution_count": 111,
   "metadata": {
    "id": "-hcC2fB1-WEC"
   },
   "outputs": [],
   "source": [
    "bloomberg_model = tf.keras.models.load_model('./tf_saved/model/bloomberg_news_model.h5')"
   ]
  },
  {
   "cell_type": "code",
   "execution_count": 112,
   "metadata": {
    "colab": {
     "base_uri": "https://localhost:8080/"
    },
    "id": "muAn2gu3-f69",
    "outputId": "4c15431a-5a08-40cd-8ea1-8d2b2703364f"
   },
   "outputs": [
    {
     "name": "stdout",
     "output_type": "stream",
     "text": [
      "Model: \"sequential_12\"\n",
      "_________________________________________________________________\n",
      "Layer (type)                 Output Shape              Param #   \n",
      "=================================================================\n",
      "embedding_11 (Embedding)     (None, 1000, 100)         13865800  \n",
      "_________________________________________________________________\n",
      "lstm_11 (LSTM)               (None, 128)               117248    \n",
      "_________________________________________________________________\n",
      "dense_11 (Dense)             (None, 1)                 129       \n",
      "=================================================================\n",
      "Total params: 13,983,177\n",
      "Trainable params: 117,377\n",
      "Non-trainable params: 13,865,800\n",
      "_________________________________________________________________\n"
     ]
    }
   ],
   "source": [
    "bloomberg_model.summary()"
   ]
  },
  {
   "cell_type": "markdown",
   "metadata": {
    "id": "FAkG3p2YAfES"
   },
   "source": [
    "### Prediction Score"
   ]
  },
  {
   "cell_type": "code",
   "execution_count": 113,
   "metadata": {
    "id": "WN2Eb45z-mOK"
   },
   "outputs": [],
   "source": [
    "y_pred = (bloomberg_model.predict(X_test) >= 0.5).astype(int)"
   ]
  },
  {
   "cell_type": "code",
   "execution_count": 114,
   "metadata": {
    "colab": {
     "base_uri": "https://localhost:8080/"
    },
    "id": "2Cx3kSDQ-zzA",
    "outputId": "d9ca6410-a3c5-4b56-f0c6-97ed92e1ed37"
   },
   "outputs": [
    {
     "data": {
      "text/plain": [
       "0.9851224944320712"
      ]
     },
     "execution_count": 114,
     "metadata": {
      "tags": []
     },
     "output_type": "execute_result"
    }
   ],
   "source": [
    "accuracy_score(y_test, y_pred)"
   ]
  }
 ],
 "metadata": {
  "colab": {
   "collapsed_sections": [],
   "name": "fake_news_model.ipynb",
   "provenance": []
  },
  "kernelspec": {
   "display_name": "Python 3 (ipykernel)",
   "language": "python",
   "name": "python3"
  },
  "language_info": {
   "codemirror_mode": {
    "name": "ipython",
    "version": 3
   },
   "file_extension": ".py",
   "mimetype": "text/x-python",
   "name": "python",
   "nbconvert_exporter": "python",
   "pygments_lexer": "ipython3",
   "version": "3.9.6"
  }
 },
 "nbformat": 4,
 "nbformat_minor": 4
}
